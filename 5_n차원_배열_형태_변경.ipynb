{
  "nbformat": 4,
  "nbformat_minor": 0,
  "metadata": {
    "colab": {
      "name": "5.n차원 배열 형태 변경.ipynb",
      "provenance": [],
      "collapsed_sections": [],
      "authorship_tag": "ABX9TyM0JqRpAC4wZL7MBuEowTwZ",
      "include_colab_link": true
    },
    "kernelspec": {
      "name": "python3",
      "display_name": "Python 3"
    },
    "language_info": {
      "name": "python"
    }
  },
  "cells": [
    {
      "cell_type": "markdown",
      "metadata": {
        "id": "view-in-github",
        "colab_type": "text"
      },
      "source": [
        "<a href=\"https://colab.research.google.com/github/kevin-hyun/numpy-practice/blob/main/5_n%EC%B0%A8%EC%9B%90_%EB%B0%B0%EC%97%B4_%ED%98%95%ED%83%9C_%EB%B3%80%EA%B2%BD.ipynb\" target=\"_parent\"><img src=\"https://colab.research.google.com/assets/colab-badge.svg\" alt=\"Open In Colab\"/></a>"
      ]
    },
    {
      "cell_type": "markdown",
      "metadata": {
        "id": "zt8TfJBiXVGV"
      },
      "source": [
        "#n차원 배열 형태 변경"
      ]
    },
    {
      "cell_type": "markdown",
      "metadata": {
        "id": "_nmmX0OmXZOT"
      },
      "source": [
        "## reshape"
      ]
    },
    {
      "cell_type": "code",
      "metadata": {
        "id": "ug4Pc3HWXgbN"
      },
      "source": [
        "import numpy as np"
      ],
      "execution_count": null,
      "outputs": []
    },
    {
      "cell_type": "code",
      "metadata": {
        "colab": {
          "base_uri": "https://localhost:8080/"
        },
        "id": "9AD7FojkXJMy",
        "outputId": "847a2543-44a7-4396-dc72-2008415415f3"
      },
      "source": [
        "arr=np.arange(12)\n",
        "print(arr)\n",
        "print(\"차원 : \", arr.ndim)\n",
        "\n",
        "## reshape- 원본 변경 x \n",
        "# 원소의 개수는 맞아야 함- 안맞으면 err-- 개수만 맞으면 n 차원 가능 - \n",
        "arr = arr.reshape(3,4)\n",
        "print(arr)\n",
        "\n",
        "arr = arr.reshape(2,2,3)\n",
        "print(arr)\n",
        "\n",
        "# curse of dimensionality \n",
        "## 학습데이터 < 차원 --> 비효율 (데이터 사이 거리가 멀어짐)\n",
        "\n",
        "\n",
        "## (n,-1) --> -1이 총 갯수/n 수로 변함\n",
        "\n",
        "arr=np.arange(12)\n",
        "arr = arr.reshape(3,-1) ### -1 -> 4\n",
        "print(arr)\n",
        "\n",
        "arr=np.arange(12)\n",
        "arr = arr.reshape(6,-1)\n",
        "print(arr)\n"
      ],
      "execution_count": null,
      "outputs": [
        {
          "output_type": "stream",
          "name": "stdout",
          "text": [
            "[ 0  1  2  3  4  5  6  7  8  9 10 11]\n",
            "차원 :  1\n",
            "[[ 0  1  2  3]\n",
            " [ 4  5  6  7]\n",
            " [ 8  9 10 11]]\n",
            "[[[ 0  1  2]\n",
            "  [ 3  4  5]]\n",
            "\n",
            " [[ 6  7  8]\n",
            "  [ 9 10 11]]]\n",
            "[[ 0  1  2  3]\n",
            " [ 4  5  6  7]\n",
            " [ 8  9 10 11]]\n",
            "[[ 0  1]\n",
            " [ 2  3]\n",
            " [ 4  5]\n",
            " [ 6  7]\n",
            " [ 8  9]\n",
            " [10 11]]\n"
          ]
        }
      ]
    },
    {
      "cell_type": "markdown",
      "metadata": {
        "id": "7Ak3waf2Ydbg"
      },
      "source": [
        "## resize, ravel"
      ]
    },
    {
      "cell_type": "code",
      "metadata": {
        "colab": {
          "base_uri": "https://localhost:8080/"
        },
        "id": "Kls0JPPaYgeR",
        "outputId": "4f4e20db-2513-42b3-c19e-791628e8313a"
      },
      "source": [
        "arr=np.arange(12)\n",
        "print(arr)"
      ],
      "execution_count": null,
      "outputs": [
        {
          "output_type": "stream",
          "name": "stdout",
          "text": [
            "[ 0  1  2  3  4  5  6  7  8  9 10 11]\n"
          ]
        }
      ]
    },
    {
      "cell_type": "code",
      "metadata": {
        "colab": {
          "base_uri": "https://localhost:8080/"
        },
        "id": "12sUPZ3TYjgx",
        "outputId": "738ae8ec-8dab-434b-f18a-74821f0f5a60"
      },
      "source": [
        "# resize - 원본 변경\n",
        "arr.resize (3,4)\n",
        "print(arr)"
      ],
      "execution_count": null,
      "outputs": [
        {
          "output_type": "stream",
          "name": "stdout",
          "text": [
            "[[ 0  1  2  3]\n",
            " [ 4  5  6  7]\n",
            " [ 8  9 10 11]]\n"
          ]
        }
      ]
    },
    {
      "cell_type": "code",
      "metadata": {
        "colab": {
          "base_uri": "https://localhost:8080/"
        },
        "id": "qQjHDVdMYuwe",
        "outputId": "e2c2461f-610b-4a76-c218-3115b6c0d66d"
      },
      "source": [
        "# ravel-  1차원으로 \n",
        "\n",
        "arr = arr.ravel()\n",
        "print(arr)"
      ],
      "execution_count": null,
      "outputs": [
        {
          "output_type": "stream",
          "name": "stdout",
          "text": [
            "[ 0  1  2  3  4  5  6  7  8  9 10 11]\n"
          ]
        }
      ]
    },
    {
      "cell_type": "markdown",
      "metadata": {
        "id": "_R0H6nUNZvbL"
      },
      "source": [
        "## expand_dims(), squeeze()"
      ]
    },
    {
      "cell_type": "code",
      "metadata": {
        "colab": {
          "base_uri": "https://localhost:8080/"
        },
        "id": "HMBhWp5lZz-T",
        "outputId": "7f588695-ece7-49d3-eab6-e5ad00805f75"
      },
      "source": [
        "#expand_dims()\n",
        "\n",
        "arr= np.array([1,2])\n",
        "print(arr,arr.shape)\n",
        "\n",
        "arr = np.expand_dims(arr,axis=0)\n",
        "print(arr,arr.shape)\n",
        "    \n",
        "\n",
        "    "
      ],
      "execution_count": null,
      "outputs": [
        {
          "output_type": "stream",
          "name": "stdout",
          "text": [
            "[1 2] (2,)\n",
            "[[1 2]] (1, 2)\n"
          ]
        }
      ]
    },
    {
      "cell_type": "code",
      "metadata": {
        "colab": {
          "base_uri": "https://localhost:8080/"
        },
        "id": "oFWlsD5zaTRT",
        "outputId": "c7fe3bfa-5542-4bd2-cf30-4822fcf93600"
      },
      "source": [
        "arr= np.array([1,2])\n",
        "arr = np.expand_dims(arr,axis=1)\n",
        "print(arr,arr.shape)\n"
      ],
      "execution_count": null,
      "outputs": [
        {
          "output_type": "stream",
          "name": "stdout",
          "text": [
            "[[1]\n",
            " [2]] (2, 1)\n"
          ]
        }
      ]
    },
    {
      "cell_type": "code",
      "metadata": {
        "colab": {
          "base_uri": "https://localhost:8080/"
        },
        "id": "mT2ondugaCSN",
        "outputId": "e33814b7-c396-4acb-bb15-a390c95069d9"
      },
      "source": [
        "# squeeze()\n",
        "\n",
        "arr = np.array([[1,2]])\n",
        "print(arr,arr.shape,arr.ndim)\n",
        "\n",
        "arr = np.squeeze(arr,axis=0)\n",
        "print(arr,arr.shape,arr.ndim)\n",
        "\n",
        "print(\"------\")\n",
        "\n",
        "arr = np.array([[[1],[2],[3]]])\n",
        "print(arr,arr.shape,arr.ndim)\n",
        "arr = np.squeeze(arr,axis=0)\n",
        "print(arr,arr.shape,arr.ndim)\n",
        "\n",
        "## axis 입력안하면 1차원으로 된다. \n",
        "print(\"------\")\n",
        "arr = np.squeeze(arr)\n",
        "print(arr,arr.shape,arr.ndim)"
      ],
      "execution_count": null,
      "outputs": [
        {
          "output_type": "stream",
          "name": "stdout",
          "text": [
            "[[1 2]] (1, 2) 2\n",
            "[1 2] (2,) 1\n",
            "------\n",
            "[[[1]\n",
            "  [2]\n",
            "  [3]]] (1, 3, 1) 3\n",
            "[[1]\n",
            " [2]\n",
            " [3]] (3, 1) 2\n",
            "------\n",
            "[1 2 3] (3,) 1\n"
          ]
        }
      ]
    },
    {
      "cell_type": "markdown",
      "metadata": {
        "id": "KOxoKZlibkM4"
      },
      "source": [
        "## 전치행렬(transpose)\n",
        "- i,j값 switch"
      ]
    },
    {
      "cell_type": "code",
      "metadata": {
        "colab": {
          "base_uri": "https://localhost:8080/"
        },
        "id": "ihf_yt8pbqKV",
        "outputId": "7e0199a6-95ae-4aff-f3b0-06982baf786c"
      },
      "source": [
        "arr = np.array([[1,2],[3,4]])\n",
        "\n",
        "print(arr.T)\n",
        "\n",
        "arr = np.array([[1,2,3],[3,4,5],[6,7,8]])\n",
        "\n",
        "print(arr.T)"
      ],
      "execution_count": null,
      "outputs": [
        {
          "output_type": "stream",
          "name": "stdout",
          "text": [
            "[[1 3]\n",
            " [2 4]]\n",
            "[[1 3 6]\n",
            " [2 4 7]\n",
            " [3 5 8]]\n"
          ]
        }
      ]
    },
    {
      "cell_type": "code",
      "metadata": {
        "colab": {
          "base_uri": "https://localhost:8080/"
        },
        "id": "S1ZzoXKrcRu6",
        "outputId": "dbb9e473-ddb6-4a83-d0dc-9d6ebaf07c45"
      },
      "source": [
        "arr = np.array([[1,2,3],[3,4,5]])\n",
        "\n",
        "print(arr.T)"
      ],
      "execution_count": null,
      "outputs": [
        {
          "output_type": "stream",
          "name": "stdout",
          "text": [
            "[[1 3]\n",
            " [2 4]\n",
            " [3 5]]\n"
          ]
        }
      ]
    },
    {
      "cell_type": "code",
      "metadata": {
        "colab": {
          "base_uri": "https://localhost:8080/"
        },
        "id": "9hd1m2FIcj3_",
        "outputId": "1126a5c9-e77e-48a5-8781-61de17de723d"
      },
      "source": [
        "arr= np.array([[1,2],[3,4],[5,6]])\n",
        "arr2 = np.full((3,2),2)\n",
        "\n",
        "## dot - arr의 row 갯수와 arr2의 col갯수가 일치해야 곱셈이 됌\n",
        "## 예시에서는 (3,2) (3,2)로 동일\n",
        "#print(arr.dot(arr2))\n",
        "\n",
        "## 전치행렬만들어주면 가능\n",
        "arr= arr.T\n",
        "print(arr.dot(arr2))"
      ],
      "execution_count": null,
      "outputs": [
        {
          "output_type": "stream",
          "name": "stdout",
          "text": [
            "[[18 18]\n",
            " [24 24]]\n"
          ]
        }
      ]
    }
  ]
}