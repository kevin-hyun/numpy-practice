{
  "nbformat": 4,
  "nbformat_minor": 0,
  "metadata": {
    "colab": {
      "name": "6. 배열의 병합.ipynb",
      "provenance": [],
      "collapsed_sections": [],
      "authorship_tag": "ABX9TyPbOz9LS2GhWjIAvr+ZiXSz",
      "include_colab_link": true
    },
    "kernelspec": {
      "name": "python3",
      "display_name": "Python 3"
    },
    "language_info": {
      "name": "python"
    }
  },
  "cells": [
    {
      "cell_type": "markdown",
      "metadata": {
        "id": "view-in-github",
        "colab_type": "text"
      },
      "source": [
        "<a href=\"https://colab.research.google.com/github/kevin-hyun/numpy-practice/blob/main/6_%EB%B0%B0%EC%97%B4%EC%9D%98_%EB%B3%91%ED%95%A9.ipynb\" target=\"_parent\"><img src=\"https://colab.research.google.com/assets/colab-badge.svg\" alt=\"Open In Colab\"/></a>"
      ]
    },
    {
      "cell_type": "code",
      "metadata": {
        "id": "ApahBm-4d26w"
      },
      "source": [
        "import numpy as np"
      ],
      "execution_count": null,
      "outputs": []
    },
    {
      "cell_type": "markdown",
      "metadata": {
        "id": "QGY1BsUseIEI"
      },
      "source": [
        "## 배열의 원소 추가 및 삭제"
      ]
    },
    {
      "cell_type": "code",
      "metadata": {
        "colab": {
          "base_uri": "https://localhost:8080/"
        },
        "id": "X9dGlbn5eObX",
        "outputId": "0f730e49-73d3-4a5c-b19a-7aa5cca91ef1"
      },
      "source": [
        "# 1차원 배열 \n",
        "arr = np.arange(1,9)\n",
        "arr = np.insert(arr,2,50)\n",
        "print(arr)\n"
      ],
      "execution_count": null,
      "outputs": [
        {
          "output_type": "stream",
          "name": "stdout",
          "text": [
            "[ 1  2 50  3  4  5  6  7  8]\n"
          ]
        }
      ]
    },
    {
      "cell_type": "code",
      "metadata": {
        "colab": {
          "base_uri": "https://localhost:8080/"
        },
        "id": "QvBeoviwefma",
        "outputId": "e822e57a-02d1-4288-fdb9-6efab2a21483"
      },
      "source": [
        "# 2차원 배열\n",
        "\n",
        "arr= np.arange(12).reshape(3,4)\n",
        "print(arr)\n",
        "\n",
        "## row- 2\n",
        "arr = np.insert(arr,2,50,axis=1) \n",
        "print(arr)\n",
        "## col -2 \n",
        "arr = np.insert(arr,2,50,axis=1) \n",
        "print(arr)\n",
        "\n",
        "## without axis -> 1 dim\n",
        "\n",
        "arr= np.arange(12).reshape(3,4)\n",
        "arr = np.insert(arr,2,50) \n",
        "print(arr)"
      ],
      "execution_count": null,
      "outputs": [
        {
          "output_type": "stream",
          "name": "stdout",
          "text": [
            "[[ 0  1  2  3]\n",
            " [ 4  5  6  7]\n",
            " [ 8  9 10 11]]\n",
            "[[ 0  1 50  2  3]\n",
            " [ 4  5 50  6  7]\n",
            " [ 8  9 50 10 11]]\n",
            "[[ 0  1 50 50  2  3]\n",
            " [ 4  5 50 50  6  7]\n",
            " [ 8  9 50 50 10 11]]\n",
            "[ 0  1 50  2  3  4  5  6  7  8  9 10 11]\n"
          ]
        }
      ]
    },
    {
      "cell_type": "code",
      "metadata": {
        "colab": {
          "base_uri": "https://localhost:8080/"
        },
        "id": "sFoPgSIefNvy",
        "outputId": "95e16eaa-d474-44f6-d86c-3e14e46d936a"
      },
      "source": [
        "# delete \n",
        "\n",
        "arr = np.arange(1,13).reshape(3,4)\n",
        "print(arr)\n",
        "\n",
        "arr = np.delete(arr,2,axis=0)\n",
        "print(arr)\n",
        "\n",
        "## without axis -> 1 dim\n",
        "\n",
        "arr = np.arange(1,13).reshape(3,4)\n",
        "arr = np.delete(arr,2)\n",
        "print(arr)"
      ],
      "execution_count": null,
      "outputs": [
        {
          "output_type": "stream",
          "name": "stdout",
          "text": [
            "[[ 1  2  3  4]\n",
            " [ 5  6  7  8]\n",
            " [ 9 10 11 12]]\n",
            "[[1 2 3 4]\n",
            " [5 6 7 8]]\n",
            "[ 1  2  4  5  6  7  8  9 10 11 12]\n"
          ]
        }
      ]
    },
    {
      "cell_type": "markdown",
      "metadata": {
        "id": "MwayXvRzfktV"
      },
      "source": [
        "## 배열간의 병합"
      ]
    },
    {
      "cell_type": "code",
      "metadata": {
        "colab": {
          "base_uri": "https://localhost:8080/"
        },
        "id": "1HISW24-fm5_",
        "outputId": "27b237dd-6a71-4543-8657-83aea440d01f"
      },
      "source": [
        "# append - 배열 끝에 배열 추가 \n",
        "\n",
        "arr1 = np.arange(1,13).reshape(3,4)\n",
        "arr2 = np.arange(13,25).reshape(3,4)\n",
        "\n",
        "print(arr1)\n",
        "print(arr2, end= \"\\n\\n\")\n",
        "\n",
        "# axis = 0\n",
        "\n",
        "arr3 = np.append(arr1,arr2,axis=0)\n",
        "print(arr3,end='\\n\\n')\n",
        "\n",
        "# axis = 1\n",
        "\n",
        "arr3 = np.append(arr1,arr2,axis=1)\n",
        "print(arr3,end='\\n\\n')\n",
        "\n",
        "\n",
        "## without axis -> 1 dim\n",
        "arr3 = np.append(arr1,arr2)\n",
        "print(arr3,end='\\n\\n')"
      ],
      "execution_count": null,
      "outputs": [
        {
          "output_type": "stream",
          "name": "stdout",
          "text": [
            "[[ 1  2  3  4]\n",
            " [ 5  6  7  8]\n",
            " [ 9 10 11 12]]\n",
            "[[13 14 15 16]\n",
            " [17 18 19 20]\n",
            " [21 22 23 24]]\n",
            "\n",
            "[[ 1  2  3  4]\n",
            " [ 5  6  7  8]\n",
            " [ 9 10 11 12]\n",
            " [13 14 15 16]\n",
            " [17 18 19 20]\n",
            " [21 22 23 24]]\n",
            "\n",
            "[[ 1  2  3  4 13 14 15 16]\n",
            " [ 5  6  7  8 17 18 19 20]\n",
            " [ 9 10 11 12 21 22 23 24]]\n",
            "\n",
            "[ 1  2  3  4  5  6  7  8  9 10 11 12 13 14 15 16 17 18 19 20 21 22 23 24]\n",
            "\n"
          ]
        }
      ]
    },
    {
      "cell_type": "code",
      "metadata": {
        "colab": {
          "base_uri": "https://localhost:8080/"
        },
        "id": "xgsZcPlGgP7P",
        "outputId": "daa19864-c5b2-4604-8c69-d990b4d12f15"
      },
      "source": [
        "# vstack \n",
        "\n",
        "arr1 = np.arange(1,7).reshape(2,3)\n",
        "arr2 = np.arange(7,13).reshape(2,3)\n",
        "\n",
        "arr3 = np.vstack((arr1,arr2)) ## 괄호 2개!! \n",
        "print(arr3,end='\\n\\n')\n",
        "\n",
        "\n",
        "# hstack\n",
        "\n",
        "arr3 = np.hstack((arr1,arr2)) ## 괄호 2개!! \n",
        "print(arr3)"
      ],
      "execution_count": null,
      "outputs": [
        {
          "output_type": "stream",
          "name": "stdout",
          "text": [
            "[[ 1  2  3]\n",
            " [ 4  5  6]\n",
            " [ 7  8  9]\n",
            " [10 11 12]]\n",
            "\n",
            "[[ 1  2  3  7  8  9]\n",
            " [ 4  5  6 10 11 12]]\n"
          ]
        }
      ]
    },
    {
      "cell_type": "code",
      "metadata": {
        "colab": {
          "base_uri": "https://localhost:8080/"
        },
        "id": "-wiX2Ly0hL-g",
        "outputId": "51f40534-d65d-4f99-c328-907d6d991bf1"
      },
      "source": [
        "# concatanate()\n",
        "\n",
        "# axis = 0 = vstack\n",
        "\n",
        "arr3 = np.concatenate([arr1,arr2],axis=0)\n",
        "print(arr3,end='\\n\\n')\n",
        "\n",
        "# axis = 1 = hastack\n",
        "\n",
        "arr3 = np.concatenate([arr1,arr2],axis=1)\n",
        "print(arr3,end='\\n\\n')\n",
        "\n",
        "\n",
        "## without axis -> axis=0\n",
        "arr3 = np.concatenate([arr1,arr2])\n",
        "print(arr3,end='\\n\\n')\n",
        "\n"
      ],
      "execution_count": null,
      "outputs": [
        {
          "output_type": "stream",
          "name": "stdout",
          "text": [
            "[[ 1  2  3]\n",
            " [ 4  5  6]\n",
            " [ 7  8  9]\n",
            " [10 11 12]]\n",
            "\n",
            "[[ 1  2  3  7  8  9]\n",
            " [ 4  5  6 10 11 12]]\n",
            "\n",
            "[[ 1  2  3]\n",
            " [ 4  5  6]\n",
            " [ 7  8  9]\n",
            " [10 11 12]]\n",
            "\n"
          ]
        }
      ]
    },
    {
      "cell_type": "markdown",
      "metadata": {
        "id": "TPwQEbzvhua9"
      },
      "source": [
        "# 배열 분할 \n"
      ]
    },
    {
      "cell_type": "code",
      "metadata": {
        "colab": {
          "base_uri": "https://localhost:8080/"
        },
        "id": "Rfifu5behwkC",
        "outputId": "584f2127-2689-4711-f8ea-9ddcee8e2f5a"
      },
      "source": [
        "# 2차원 배열 분할\n",
        "\n",
        "arr = np.arange(1,13).reshape(3,4)\n",
        "print(arr)\n",
        "\n",
        "# vsplit - axis = 0 \n",
        "\n",
        "## 1 -> 총 나뉜 개수가 1개 \n",
        "arr_vsplit = np.vsplit(arr,1)\n",
        "print(arr_vsplit[0])\n",
        "\n",
        "## 3-> 총 나뉜 개수가 3개 \n",
        "arr_vsplit = np.vsplit(arr,3)\n",
        "print(arr_vsplit[0])\n",
        "\n",
        "## 2-> 총 나뉜 개수가 2개  --> 에러 --> 행이 3개 -> 홀수만 가능  \n",
        "# arr_vsplit = np.vsplit(arr,2)\n",
        "# print(arr_vsplit[0])\n",
        "\n",
        "\n",
        "\n",
        "\n"
      ],
      "execution_count": null,
      "outputs": [
        {
          "output_type": "stream",
          "name": "stdout",
          "text": [
            "[[ 1  2  3  4]\n",
            " [ 5  6  7  8]\n",
            " [ 9 10 11 12]]\n",
            "[[ 1  2  3  4]\n",
            " [ 5  6  7  8]\n",
            " [ 9 10 11 12]]\n",
            "[[1 2 3 4]]\n",
            "[[ 1  2]\n",
            " [ 5  6]\n",
            " [ 9 10]]\n",
            "[[1]\n",
            " [5]\n",
            " [9]]\n"
          ]
        }
      ]
    },
    {
      "cell_type": "code",
      "metadata": {
        "colab": {
          "base_uri": "https://localhost:8080/"
        },
        "id": "xXqniIKejZjM",
        "outputId": "c30ea3e7-ebda-4e8c-f4da-c57c8d365be6"
      },
      "source": [
        "# hsplit - axis = 1 \n",
        "\n",
        "arr = np.arange(1,13).reshape(3,4)\n",
        "print(arr,end=\"\\n\\n\")\n",
        "\n",
        "## 1 -> 총 나뉜 개수가 2개 \n",
        "arr_hsplit = np.hsplit(arr,2)\n",
        "print(arr_hsplit[0])\n",
        "\n",
        "## 3-> 총 나뉜 개수가 4개 \n",
        "arr_hsplit = np.hsplit(arr,4)\n",
        "print(arr_hsplit[0])\n",
        "\n",
        "## 3-> 총 나뉜 개수가 3개  --> 에러 --> 행이 3개 -> 홀수만 가능  \n",
        "# arr_vsplit = np.vsplit(arr,3)\n",
        "# print(arr_vsplit[0])\n"
      ],
      "execution_count": null,
      "outputs": [
        {
          "output_type": "stream",
          "name": "stdout",
          "text": [
            "[[ 1  2  3  4]\n",
            " [ 5  6  7  8]\n",
            " [ 9 10 11 12]]\n",
            "\n",
            "[[ 1  2]\n",
            " [ 5  6]\n",
            " [ 9 10]]\n",
            "[[1]\n",
            " [5]\n",
            " [9]]\n"
          ]
        }
      ]
    },
    {
      "cell_type": "code",
      "metadata": {
        "colab": {
          "base_uri": "https://localhost:8080/"
        },
        "id": "udWB-Sh4jlRL",
        "outputId": "e2fcfaf9-02d0-4f12-a598-50b8cc1ce577"
      },
      "source": [
        "# 3차원 배열 \n",
        "\n",
        "arr = np.random.randint(0,10,(4,6,8))\n",
        "print(arr)"
      ],
      "execution_count": null,
      "outputs": [
        {
          "output_type": "stream",
          "name": "stdout",
          "text": [
            "[[[6 2 6 9 8 1 3 2]\n",
            "  [7 2 9 7 0 6 6 6]\n",
            "  [3 1 1 3 9 9 7 0]\n",
            "  [9 8 0 1 8 1 0 7]\n",
            "  [5 2 1 1 0 1 3 3]\n",
            "  [7 0 4 4 1 3 6 7]]\n",
            "\n",
            " [[5 5 6 2 0 8 3 9]\n",
            "  [2 9 2 4 2 4 0 7]\n",
            "  [6 3 6 6 9 9 7 3]\n",
            "  [2 9 2 6 4 3 7 8]\n",
            "  [3 8 9 7 1 0 1 4]\n",
            "  [0 1 8 4 8 1 6 1]]\n",
            "\n",
            " [[2 1 1 5 3 1 6 8]\n",
            "  [2 5 1 9 0 2 7 5]\n",
            "  [1 4 2 2 0 2 7 0]\n",
            "  [7 3 0 7 0 9 0 0]\n",
            "  [3 5 4 4 5 0 8 3]\n",
            "  [6 7 7 4 2 1 2 7]]\n",
            "\n",
            " [[3 1 5 2 0 5 7 6]\n",
            "  [3 7 6 9 5 4 9 2]\n",
            "  [5 9 5 3 4 3 5 8]\n",
            "  [6 9 7 4 8 8 0 9]\n",
            "  [5 3 5 2 4 2 8 2]\n",
            "  [2 6 4 3 4 3 8 1]]]\n"
          ]
        }
      ]
    },
    {
      "cell_type": "code",
      "metadata": {
        "colab": {
          "base_uri": "https://localhost:8080/"
        },
        "id": "krOhcoKHjzML",
        "outputId": "cb9384e1-8031-4047-d25f-42ed5f7e11b7"
      },
      "source": [
        "arr_vsplit= np.vsplit(arr,2)\n",
        "print(arr_vsplit)"
      ],
      "execution_count": null,
      "outputs": [
        {
          "output_type": "stream",
          "name": "stdout",
          "text": [
            "[array([[[6, 2, 6, 9, 8, 1, 3, 2],\n",
            "        [7, 2, 9, 7, 0, 6, 6, 6],\n",
            "        [3, 1, 1, 3, 9, 9, 7, 0],\n",
            "        [9, 8, 0, 1, 8, 1, 0, 7],\n",
            "        [5, 2, 1, 1, 0, 1, 3, 3],\n",
            "        [7, 0, 4, 4, 1, 3, 6, 7]],\n",
            "\n",
            "       [[5, 5, 6, 2, 0, 8, 3, 9],\n",
            "        [2, 9, 2, 4, 2, 4, 0, 7],\n",
            "        [6, 3, 6, 6, 9, 9, 7, 3],\n",
            "        [2, 9, 2, 6, 4, 3, 7, 8],\n",
            "        [3, 8, 9, 7, 1, 0, 1, 4],\n",
            "        [0, 1, 8, 4, 8, 1, 6, 1]]]), array([[[2, 1, 1, 5, 3, 1, 6, 8],\n",
            "        [2, 5, 1, 9, 0, 2, 7, 5],\n",
            "        [1, 4, 2, 2, 0, 2, 7, 0],\n",
            "        [7, 3, 0, 7, 0, 9, 0, 0],\n",
            "        [3, 5, 4, 4, 5, 0, 8, 3],\n",
            "        [6, 7, 7, 4, 2, 1, 2, 7]],\n",
            "\n",
            "       [[3, 1, 5, 2, 0, 5, 7, 6],\n",
            "        [3, 7, 6, 9, 5, 4, 9, 2],\n",
            "        [5, 9, 5, 3, 4, 3, 5, 8],\n",
            "        [6, 9, 7, 4, 8, 8, 0, 9],\n",
            "        [5, 3, 5, 2, 4, 2, 8, 2],\n",
            "        [2, 6, 4, 3, 4, 3, 8, 1]]])]\n"
          ]
        }
      ]
    },
    {
      "cell_type": "code",
      "metadata": {
        "colab": {
          "base_uri": "https://localhost:8080/"
        },
        "id": "XjE4fBSWkA6J",
        "outputId": "f6b72b1a-ae9f-40be-aca8-d275fb792f9c"
      },
      "source": [
        "arr_hsplit= np.hsplit(arr,2)\n",
        "print(arr_hsplit)"
      ],
      "execution_count": null,
      "outputs": [
        {
          "output_type": "stream",
          "name": "stdout",
          "text": [
            "[array([[[6, 2, 6, 9, 8, 1, 3, 2],\n",
            "        [7, 2, 9, 7, 0, 6, 6, 6],\n",
            "        [3, 1, 1, 3, 9, 9, 7, 0]],\n",
            "\n",
            "       [[5, 5, 6, 2, 0, 8, 3, 9],\n",
            "        [2, 9, 2, 4, 2, 4, 0, 7],\n",
            "        [6, 3, 6, 6, 9, 9, 7, 3]],\n",
            "\n",
            "       [[2, 1, 1, 5, 3, 1, 6, 8],\n",
            "        [2, 5, 1, 9, 0, 2, 7, 5],\n",
            "        [1, 4, 2, 2, 0, 2, 7, 0]],\n",
            "\n",
            "       [[3, 1, 5, 2, 0, 5, 7, 6],\n",
            "        [3, 7, 6, 9, 5, 4, 9, 2],\n",
            "        [5, 9, 5, 3, 4, 3, 5, 8]]]), array([[[9, 8, 0, 1, 8, 1, 0, 7],\n",
            "        [5, 2, 1, 1, 0, 1, 3, 3],\n",
            "        [7, 0, 4, 4, 1, 3, 6, 7]],\n",
            "\n",
            "       [[2, 9, 2, 6, 4, 3, 7, 8],\n",
            "        [3, 8, 9, 7, 1, 0, 1, 4],\n",
            "        [0, 1, 8, 4, 8, 1, 6, 1]],\n",
            "\n",
            "       [[7, 3, 0, 7, 0, 9, 0, 0],\n",
            "        [3, 5, 4, 4, 5, 0, 8, 3],\n",
            "        [6, 7, 7, 4, 2, 1, 2, 7]],\n",
            "\n",
            "       [[6, 9, 7, 4, 8, 8, 0, 9],\n",
            "        [5, 3, 5, 2, 4, 2, 8, 2],\n",
            "        [2, 6, 4, 3, 4, 3, 8, 1]]])]\n"
          ]
        }
      ]
    }
  ]
}