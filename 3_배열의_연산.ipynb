{
  "nbformat": 4,
  "nbformat_minor": 0,
  "metadata": {
    "colab": {
      "name": "3.배열의 연산.ipynb",
      "provenance": [],
      "collapsed_sections": [],
      "authorship_tag": "ABX9TyMyJ6Nb3ipcQLJs66ZUQwk1",
      "include_colab_link": true
    },
    "kernelspec": {
      "name": "python3",
      "display_name": "Python 3"
    },
    "language_info": {
      "name": "python"
    }
  },
  "cells": [
    {
      "cell_type": "markdown",
      "metadata": {
        "id": "view-in-github",
        "colab_type": "text"
      },
      "source": [
        "<a href=\"https://colab.research.google.com/github/kevin-hyun/numpy-practice/blob/main/3_%EB%B0%B0%EC%97%B4%EC%9D%98_%EC%97%B0%EC%82%B0.ipynb\" target=\"_parent\"><img src=\"https://colab.research.google.com/assets/colab-badge.svg\" alt=\"Open In Colab\"/></a>"
      ]
    },
    {
      "cell_type": "code",
      "metadata": {
        "id": "1FvNxiZEokLQ"
      },
      "source": [
        "import numpy as np "
      ],
      "execution_count": null,
      "outputs": []
    },
    {
      "cell_type": "markdown",
      "metadata": {
        "id": "i7XoU6LGoHFh"
      },
      "source": [
        "# 배열의 연산\n"
      ]
    },
    {
      "cell_type": "markdown",
      "metadata": {
        "id": "6m7co_qRoNCM"
      },
      "source": [
        "## 사칙연산/제곱/제곱근/제곱/몫/나머지"
      ]
    },
    {
      "cell_type": "code",
      "metadata": {
        "colab": {
          "base_uri": "https://localhost:8080/"
        },
        "id": "q0ZjJQY3oDGt",
        "outputId": "b155145e-f45a-485c-baad-3522eba82342"
      },
      "source": [
        "arr1 = np.array([[1,2,3],[4,5,6],[7,8,9]])\n",
        "arr2 = np.array([[2,2,2],[2,2,2],[2,2,2]])\n",
        "\n",
        "\n",
        "## plus\n",
        "\n",
        "print(arr1+arr2, \"\\n\")\n",
        "print(np.add(arr1,arr2), \"\\n\")\n",
        "\n",
        "\n"
      ],
      "execution_count": null,
      "outputs": [
        {
          "output_type": "stream",
          "name": "stdout",
          "text": [
            "[[ 3  4  5]\n",
            " [ 6  7  8]\n",
            " [ 9 10 11]] \n",
            "\n",
            "[[ 3  4  5]\n",
            " [ 6  7  8]\n",
            " [ 9 10 11]] \n",
            "\n"
          ]
        }
      ]
    },
    {
      "cell_type": "code",
      "metadata": {
        "colab": {
          "base_uri": "https://localhost:8080/"
        },
        "id": "yP-umJLDo1Lg",
        "outputId": "55754f8a-30e8-4059-8062-8832019f645b"
      },
      "source": [
        "# subtract\n",
        "print(arr1-arr2, \"\\n\")\n",
        "print(np.subtract(arr1,arr2), \"\\n\")\n",
        "\n"
      ],
      "execution_count": null,
      "outputs": [
        {
          "output_type": "stream",
          "name": "stdout",
          "text": [
            "[[-1  0  1]\n",
            " [ 2  3  4]\n",
            " [ 5  6  7]] \n",
            "\n",
            "[[-1  0  1]\n",
            " [ 2  3  4]\n",
            " [ 5  6  7]] \n",
            "\n"
          ]
        }
      ]
    },
    {
      "cell_type": "code",
      "metadata": {
        "colab": {
          "base_uri": "https://localhost:8080/"
        },
        "id": "2h3Xvm62o56Z",
        "outputId": "4c2b4b9d-26c5-4799-bba2-7ae8deef5de4"
      },
      "source": [
        "# mul\n",
        "\n",
        "## 같은 자리의 원소끼리만 곱셉\n",
        "print(arr1*arr2, \"\\n\")\n",
        "print(np.multiply(arr1,arr2), \"\\n\")\n"
      ],
      "execution_count": null,
      "outputs": [
        {
          "output_type": "stream",
          "name": "stdout",
          "text": [
            "[[ 2  4  6]\n",
            " [ 8 10 12]\n",
            " [14 16 18]] \n",
            "\n",
            "[[ 2  4  6]\n",
            " [ 8 10 12]\n",
            " [14 16 18]] \n",
            "\n"
          ]
        }
      ]
    },
    {
      "cell_type": "code",
      "metadata": {
        "colab": {
          "base_uri": "https://localhost:8080/"
        },
        "id": "r3QxdgGvpDNq",
        "outputId": "8a4576fe-9347-49a9-ed03-3c2ca4ce8172"
      },
      "source": [
        "# divide\n",
        "\n",
        "print(arr1/arr2, \"\\n\")\n",
        "print(np.divide(arr1,arr2), \"\\n\")"
      ],
      "execution_count": null,
      "outputs": [
        {
          "output_type": "stream",
          "name": "stdout",
          "text": [
            "[[0.5 1.  1.5]\n",
            " [2.  2.5 3. ]\n",
            " [3.5 4.  4.5]] \n",
            "\n",
            "[[0.5 1.  1.5]\n",
            " [2.  2.5 3. ]\n",
            " [3.5 4.  4.5]] \n",
            "\n"
          ]
        }
      ]
    },
    {
      "cell_type": "code",
      "metadata": {
        "colab": {
          "base_uri": "https://localhost:8080/"
        },
        "id": "Lcl4JLzBpKNF",
        "outputId": "b238df03-49ed-4ca7-d0db-cb5937429a95"
      },
      "source": [
        "# 제곱\n",
        "\n",
        "print(arr1**2, \"\\n\")\n",
        "print(np.square(arr1), \"\\n\")"
      ],
      "execution_count": null,
      "outputs": [
        {
          "output_type": "stream",
          "name": "stdout",
          "text": [
            "[[ 1  4  9]\n",
            " [16 25 36]\n",
            " [49 64 81]] \n",
            "\n",
            "[[ 1  4  9]\n",
            " [16 25 36]\n",
            " [49 64 81]] \n",
            "\n"
          ]
        }
      ]
    },
    {
      "cell_type": "code",
      "metadata": {
        "colab": {
          "base_uri": "https://localhost:8080/"
        },
        "id": "LIBsl84XpVX_",
        "outputId": "e4bf8741-51a9-45e7-c8d5-6ad983db942d"
      },
      "source": [
        "# 제곱근\n",
        "\n",
        "print(np.sqrt(arr1), \"\\n\")"
      ],
      "execution_count": null,
      "outputs": [
        {
          "output_type": "stream",
          "name": "stdout",
          "text": [
            "[[1.         1.41421356 1.73205081]\n",
            " [2.         2.23606798 2.44948974]\n",
            " [2.64575131 2.82842712 3.        ]] \n",
            "\n"
          ]
        }
      ]
    },
    {
      "cell_type": "code",
      "metadata": {
        "colab": {
          "base_uri": "https://localhost:8080/"
        },
        "id": "wVDRvLoBpdx6",
        "outputId": "826b8305-290f-4419-edf5-2a3e1731267c"
      },
      "source": [
        "# 몫\n",
        "\n",
        "print(arr1//2)"
      ],
      "execution_count": null,
      "outputs": [
        {
          "output_type": "stream",
          "name": "stdout",
          "text": [
            "[[0 1 1]\n",
            " [2 2 3]\n",
            " [3 4 4]]\n"
          ]
        }
      ]
    },
    {
      "cell_type": "code",
      "metadata": {
        "colab": {
          "base_uri": "https://localhost:8080/"
        },
        "id": "_9Xdjw0KplPu",
        "outputId": "2a7ebe97-6063-4969-e089-6fc5cea0e102"
      },
      "source": [
        "# 나머지\n",
        "\n",
        "print(arr1%2)"
      ],
      "execution_count": null,
      "outputs": [
        {
          "output_type": "stream",
          "name": "stdout",
          "text": [
            "[[1 0 1]\n",
            " [0 1 0]\n",
            " [1 0 1]]\n"
          ]
        }
      ]
    },
    {
      "cell_type": "markdown",
      "metadata": {
        "id": "-TSaC1Dmpxbc"
      },
      "source": [
        "## dot product/ 절댓값/올림/내림/반올림/버림"
      ]
    },
    {
      "cell_type": "code",
      "metadata": {
        "colab": {
          "base_uri": "https://localhost:8080/"
        },
        "id": "6ASgH9y6p8Gi",
        "outputId": "69bcd308-45a2-4be0-c3b5-989624096046"
      },
      "source": [
        "#dot product- \n",
        "\n",
        "## 1차원 행렬\n",
        "\n",
        "arr1 = np.array([2,3,4])\n",
        "arr2 = np.array([1,2,3])\n",
        "\n",
        "print(np.dot(arr1,arr2))\n",
        "## 2*1, 3*2, 4*3"
      ],
      "execution_count": null,
      "outputs": [
        {
          "output_type": "stream",
          "name": "stdout",
          "text": [
            "20\n"
          ]
        }
      ]
    },
    {
      "cell_type": "code",
      "metadata": {
        "colab": {
          "base_uri": "https://localhost:8080/"
        },
        "id": "BLyUOHjuqToT",
        "outputId": "63be9341-65ba-452c-b3e7-f3a53854b040"
      },
      "source": [
        "## 2차원 행렬\n",
        "## 행렬곱\n",
        "\n",
        "\n",
        "arr1 = np.array([[1,2,],[3,4]])\n",
        "arr2 = np.array([[1,2,],[0,3]])\n",
        "\n",
        "\n",
        "print(np.dot(arr1,arr2))\n",
        "\n",
        "\n"
      ],
      "execution_count": null,
      "outputs": [
        {
          "output_type": "stream",
          "name": "stdout",
          "text": [
            "[[ 1  8]\n",
            " [ 3 18]]\n"
          ]
        }
      ]
    },
    {
      "cell_type": "code",
      "metadata": {
        "colab": {
          "base_uri": "https://localhost:8080/"
        },
        "id": "S4CX3OOErBa1",
        "outputId": "c4d46dc8-8960-4baf-b74b-d2511cee05de"
      },
      "source": [
        "# absolute\n",
        "\n",
        "arr1 = np.array([[1,-2],[-4,5]])\n",
        "\n",
        "print(np.abs(arr1))"
      ],
      "execution_count": null,
      "outputs": [
        {
          "output_type": "stream",
          "name": "stdout",
          "text": [
            "[[1 2]\n",
            " [4 5]]\n"
          ]
        }
      ]
    },
    {
      "cell_type": "code",
      "metadata": {
        "colab": {
          "base_uri": "https://localhost:8080/"
        },
        "id": "Q4OmEGcArLRa",
        "outputId": "a27ba447-06a9-4f5c-d93a-8dc834098eed"
      },
      "source": [
        "# 올림\n",
        "\n",
        "arr1 = np.array([[1.942,2.123],[1.112,2.9]])\n",
        "print(np.ceil(arr1))\n",
        "\n",
        "\n",
        "# 내림\n",
        "\n",
        "print(np.floor(arr1))\n",
        "\n",
        "\n",
        "# 반올림\n",
        "\n",
        "print(np.round(arr1))\n",
        "\n",
        "\n",
        "# 버림\n",
        "\n",
        "print(np.trunc(arr1))\n"
      ],
      "execution_count": null,
      "outputs": [
        {
          "output_type": "stream",
          "name": "stdout",
          "text": [
            "[[2. 3.]\n",
            " [2. 3.]]\n",
            "[[1. 2.]\n",
            " [1. 2.]]\n",
            "[[2. 2.]\n",
            " [1. 3.]]\n",
            "[[1. 2.]\n",
            " [1. 2.]]\n"
          ]
        }
      ]
    },
    {
      "cell_type": "markdown",
      "metadata": {
        "id": "zVLU2_u3ryjr"
      },
      "source": [
        "##  min / max / sum / mean/ sid / cumsum /median\n"
      ]
    },
    {
      "cell_type": "code",
      "metadata": {
        "id": "OQ8V9TxWsTzV"
      },
      "source": [
        "arr = np.array([[1,2,3],[0,1,4]])"
      ],
      "execution_count": null,
      "outputs": []
    },
    {
      "cell_type": "code",
      "metadata": {
        "colab": {
          "base_uri": "https://localhost:8080/"
        },
        "id": "to1RLoWcr6ZH",
        "outputId": "f8988802-0dfb-428c-bef9-b7a31e30a65d"
      },
      "source": [
        "#  min \n",
        "\n",
        "print(\"min---\")\n",
        "print(np.min(arr))\n",
        "print(arr.min())\n",
        "print(arr.min(axis=0)) # 1/0. 2/1. 3/4 \n",
        "print(arr.min(axis=1)) # 1/2/3. 0/1/4\n",
        "\n",
        "print(\"----------\")\n",
        "\n",
        "# max\n",
        "print(\"max---\")\n",
        "print(np.max(arr))\n",
        "print(arr.max())\n",
        "print(arr.max(axis=0)) # 1/0. 2/1. 3/4 \n",
        "print(arr.max(axis=1)) # 1/2/3. 0/1/4\n",
        "print(\"----------\")\n",
        "# sum\n",
        "\n",
        "print(\"sum---\")\n",
        "print(np.sum(arr))\n",
        "print(arr.max(axis=0)) # 1/0. 2/1. 3/4 \n",
        "print(arr.max(axis=1)) # 1/2/3. 0/1/4\n",
        "print(\"----------\")\n",
        "# mean\n",
        "\n",
        "print(\"mean---\")\n",
        "print(np.mean(arr)) # 1/2/3/0/1/4\n",
        "print(arr.mean(axis=0)) # 1/0. 2/1. 3/4 \n",
        "print(arr.mean(axis=1)) # 1/2/3. 0/1/4\n",
        "print(\"----------\")\n",
        "\n",
        "# std - 표준편차\n",
        "\n",
        "print(\"std---\")\n",
        "print(np.std(arr))\n",
        "print(arr.std(axis=0)) # 1/0. 2/1. 3/4 \n",
        "print(arr.std(axis=1)) # 1/2/3. 0/1/4\n",
        "print(\"----------\")\n",
        "\n",
        "\n",
        "\n",
        "# cumsum- 누적합\n",
        "print(\"cumsum---\")\n",
        "print(np.cumsum(arr))\n",
        "print(arr.cumsum(axis=0)) # 1/0. 2/1. 3/4 \n",
        "print(arr.cumsum(axis=1)) # 1/2/3. 0/1/4\n",
        "print(\"----------\")\n",
        "\n",
        "\n",
        "\n",
        "arr = np.array([[1,2,3],[0,1,4],[1,5,2]])\n",
        "\n",
        "\n",
        "# median\n",
        "print(\"median---\")\n",
        "print(np.median(arr))\n",
        "print(np.median(arr,axis=0)) # 1/0. 2/1. 3/4 \n",
        "print(np.median(arr,axis=1)) # 1/2/3. 0/1/4\n",
        "print(\"----------\")"
      ],
      "execution_count": null,
      "outputs": [
        {
          "output_type": "stream",
          "name": "stdout",
          "text": [
            "min---\n",
            "0\n",
            "0\n",
            "[0 1 3]\n",
            "[1 0]\n",
            "----------\n",
            "max---\n",
            "4\n",
            "4\n",
            "[1 2 4]\n",
            "[3 4]\n",
            "----------\n",
            "sum---\n",
            "11\n",
            "[1 2 4]\n",
            "[3 4]\n",
            "----------\n",
            "mean---\n",
            "1.8333333333333333\n",
            "[0.5 1.5 3.5]\n",
            "[2.         1.66666667]\n",
            "----------\n",
            "std---\n",
            "1.343709624716425\n",
            "[0.5 0.5 0.5]\n",
            "[0.81649658 1.69967317]\n",
            "----------\n",
            "cumsum---\n",
            "[ 1  3  6  6  7 11]\n",
            "[[1 2 3]\n",
            " [1 3 7]]\n",
            "[[1 3 6]\n",
            " [0 1 5]]\n",
            "----------\n",
            "median---\n",
            "2.0\n",
            "[1. 2. 3.]\n",
            "[2. 1. 2.]\n",
            "----------\n"
          ]
        }
      ]
    },
    {
      "cell_type": "markdown",
      "metadata": {
        "id": "cS4EuW8Evj2k"
      },
      "source": [
        "## 비교연산/ 삼각함수"
      ]
    },
    {
      "cell_type": "code",
      "metadata": {
        "colab": {
          "base_uri": "https://localhost:8080/"
        },
        "id": "g5AhFEopr-dA",
        "outputId": "db9cb124-7383-4997-e5d1-a5c69b9bc561"
      },
      "source": [
        "# 비교연산\n",
        "\n",
        "arr1 = np.array([[1,2,3],[4,5,6]])\n",
        "arr2 = np.array([[1,0,3],[4,-2,9]])\n",
        "\n",
        "\n",
        "## \n",
        "print(arr1 == arr2)\n",
        "\n",
        "## large/less \n",
        "\n",
        "print(arr1>=arr2)\n",
        "\n",
        "\n",
        "## 완전 동일 여부\n",
        "print(np.array_equal(arr1,arr2))"
      ],
      "execution_count": null,
      "outputs": [
        {
          "output_type": "stream",
          "name": "stdout",
          "text": [
            "[[ True False  True]\n",
            " [ True False False]]\n",
            "[[ True  True  True]\n",
            " [ True  True False]]\n",
            "False\n"
          ]
        }
      ]
    },
    {
      "cell_type": "code",
      "metadata": {
        "colab": {
          "base_uri": "https://localhost:8080/"
        },
        "id": "uR2_XYLnwndl",
        "outputId": "67a49f81-0236-4b4d-e3d9-5caae7dcafe8"
      },
      "source": [
        "# 삼각함수\n",
        "arr1 = np.array([[1,2,3],[4,5,6]])\n",
        "\n",
        "# sin\n",
        "print(np.sin(arr))\n",
        "\n",
        "# cos\n",
        "print(np.cos(arr))\n",
        "\n",
        "# tan\n",
        "print(np.tan(arr))\n",
        "\n",
        "# pi\n",
        "\n",
        "print(np.pi)"
      ],
      "execution_count": null,
      "outputs": [
        {
          "output_type": "stream",
          "name": "stdout",
          "text": [
            "[[ 0.84147098  0.90929743  0.14112001]\n",
            " [ 0.          0.84147098 -0.7568025 ]\n",
            " [ 0.84147098 -0.95892427  0.90929743]]\n",
            "[[ 0.54030231 -0.41614684 -0.9899925 ]\n",
            " [ 1.          0.54030231 -0.65364362]\n",
            " [ 0.54030231  0.28366219 -0.41614684]]\n",
            "[[ 1.55740772 -2.18503986 -0.14254654]\n",
            " [ 0.          1.55740772  1.15782128]\n",
            " [ 1.55740772 -3.38051501 -2.18503986]]\n",
            "3.141592653589793\n"
          ]
        }
      ]
    },
    {
      "cell_type": "markdown",
      "metadata": {
        "id": "LYb4i1c0xNkJ"
      },
      "source": [
        "# broadcastin -- shape 달라도 연산 가능 - 원소를 확장"
      ]
    },
    {
      "cell_type": "code",
      "metadata": {
        "colab": {
          "base_uri": "https://localhost:8080/"
        },
        "id": "1X7iRKzdsCoE",
        "outputId": "a04e2ef1-6d90-4f77-872d-76bef9e1ddc2"
      },
      "source": [
        "arr1 = np.array([[0,0,0],[1,1,1],[2,2,2]])\n",
        "arr2 = np.array([[5,6,7]])\n",
        "\n",
        "print(arr1 + arr2)\n",
        "\n",
        "arr1 = np.array([[1,1,1]])\n",
        "arr2 = np.array([[0],[1],[2]])\n",
        "\n",
        "\n",
        "print(arr1 + arr2)\n",
        "\n"
      ],
      "execution_count": null,
      "outputs": [
        {
          "output_type": "stream",
          "name": "stdout",
          "text": [
            "[[5 6 7]\n",
            " [6 7 8]\n",
            " [7 8 9]]\n",
            "[[1 1 1]\n",
            " [2 2 2]\n",
            " [3 3 3]]\n"
          ]
        }
      ]
    },
    {
      "cell_type": "markdown",
      "metadata": {
        "id": "QTQkvtATyj1M"
      },
      "source": [
        "```\n",
        "arr1 = np.array([[1,1,1]])\n",
        "arr2 = np.array([[0],[1],[2]])\n",
        "```\n",
        "[1,1,1] + [[0,0,0],[1,1,1],[2,2,2]]\n",
        "\n"
      ]
    },
    {
      "cell_type": "markdown",
      "metadata": {
        "id": "yvtmwxILy9OE"
      },
      "source": [
        "## 백터 연산의 장점 \n",
        "- 속도 빠르다"
      ]
    },
    {
      "cell_type": "code",
      "metadata": {
        "id": "ksP1f1posDLP"
      },
      "source": [
        "import time"
      ],
      "execution_count": null,
      "outputs": []
    },
    {
      "cell_type": "code",
      "metadata": {
        "id": "Cqvo6HCvsD5c"
      },
      "source": [
        "arr = np.arange(0,100000)"
      ],
      "execution_count": null,
      "outputs": []
    },
    {
      "cell_type": "code",
      "metadata": {
        "colab": {
          "base_uri": "https://localhost:8080/"
        },
        "id": "BiOgiUFdsELJ",
        "outputId": "15ce9ada-d243-4ef9-fb95-8bedbbfc170b"
      },
      "source": [
        "# for \n",
        "sum =0 \n",
        "before = time.time()\n",
        "for i in arr:\n",
        "  sum +=1\n",
        "after = time.time()\n",
        "\n",
        "print(sum, after-before,\"초\")"
      ],
      "execution_count": null,
      "outputs": [
        {
          "output_type": "stream",
          "name": "stdout",
          "text": [
            "1000000000 186.36407256126404 초\n"
          ]
        }
      ]
    },
    {
      "cell_type": "code",
      "metadata": {
        "colab": {
          "base_uri": "https://localhost:8080/"
        },
        "id": "mpJTUCBdsEZr",
        "outputId": "8d7cef03-0eff-4882-8ef5-f7dea8359ec6"
      },
      "source": [
        "# vector \n",
        "\n",
        "before = time.time()\n",
        "sum = np.sum(arr)\n",
        "after = time.time()\n",
        "\n",
        "print(sum, after-before,\"초\")"
      ],
      "execution_count": null,
      "outputs": [
        {
          "output_type": "stream",
          "name": "stdout",
          "text": [
            "1000000000 1.495948076248169 초\n"
          ]
        }
      ]
    },
    {
      "cell_type": "code",
      "metadata": {
        "colab": {
          "base_uri": "https://localhost:8080/"
        },
        "id": "myp63764UJ5U",
        "outputId": "d3610c7a-1e33-4fb8-af52-38d6310ec8cb"
      },
      "source": [
        "arr1 = np.arange(10000000)\n",
        "arr2 = np.arange(10000000)\n",
        "\n",
        "sum = 0\n",
        "before = time.time()\n",
        "for i,j in zip(arr1,arr2):\n",
        "  sum += 1*j\n",
        "after = time.time()\n",
        "\n",
        "print(sum, after-before,\"초\")\n"
      ],
      "execution_count": null,
      "outputs": [
        {
          "output_type": "stream",
          "name": "stdout",
          "text": [
            "49999995000000 7.16740083694458 초\n"
          ]
        }
      ]
    },
    {
      "cell_type": "code",
      "metadata": {
        "colab": {
          "base_uri": "https://localhost:8080/"
        },
        "id": "B5Dia6ksUm9Q",
        "outputId": "0412e2a2-3529-42ad-bfc2-1ea891038155"
      },
      "source": [
        "# 벡터 \n",
        "\n",
        "\n",
        "before = time.time()\n",
        "sum = np.dot(arr1,arr2)\n",
        "after = time.time()\n",
        "\n",
        "print(sum, after-before,\"초\")"
      ],
      "execution_count": null,
      "outputs": [
        {
          "output_type": "stream",
          "name": "stdout",
          "text": [
            "1291890006563070912 0.029404640197753906 초\n"
          ]
        }
      ]
    }
  ]
}