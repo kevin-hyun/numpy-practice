{
  "nbformat": 4,
  "nbformat_minor": 0,
  "metadata": {
    "colab": {
      "name": "1.N차원 배열의 생성.ipynb",
      "provenance": [],
      "collapsed_sections": []
    },
    "kernelspec": {
      "name": "python3",
      "display_name": "Python 3"
    },
    "language_info": {
      "name": "python"
    }
  },
  "cells": [
    {
      "cell_type": "code",
      "metadata": {
        "colab": {
          "base_uri": "https://localhost:8080/"
        },
        "id": "_JQVJQeD9yJ7",
        "outputId": "a791619b-7ad2-4586-d022-710fbaf5550c"
      },
      "source": [
        "a = 10 \n",
        "b = 10\n",
        "print(a+b)"
      ],
      "execution_count": null,
      "outputs": [
        {
          "output_type": "stream",
          "name": "stdout",
          "text": [
            "20\n"
          ]
        }
      ]
    },
    {
      "cell_type": "code",
      "metadata": {
        "id": "epVAmXxK-G1g"
      },
      "source": [
        "import numpy as np "
      ],
      "execution_count": null,
      "outputs": []
    },
    {
      "cell_type": "markdown",
      "metadata": {
        "id": "UNVGEAkGA6q3"
      },
      "source": [
        "# N차원 배열 \n"
      ]
    },
    {
      "cell_type": "markdown",
      "metadata": {
        "id": "kCDiuIz8BGvn"
      },
      "source": [
        "## n차원 배열 생성"
      ]
    },
    {
      "cell_type": "code",
      "metadata": {
        "colab": {
          "base_uri": "https://localhost:8080/"
        },
        "id": "DmEsTrqr_VJ0",
        "outputId": "72910b42-66d3-4172-dcd5-af7e698aca4b"
      },
      "source": [
        "# 1 dimension\n",
        "\n",
        "arr = np.array([1,2,3])\n",
        "print(arr)\n",
        "\n",
        "print(\"----------\")\n",
        "# 2 dimension\n",
        "arr = np. array([[1,2,3],[4,5,6]])\n",
        "\n",
        "print(arr)"
      ],
      "execution_count": null,
      "outputs": [
        {
          "output_type": "stream",
          "name": "stdout",
          "text": [
            "[1 2 3]\n",
            "----------\n",
            "[[1 2 3]\n",
            " [4 5 6]]\n"
          ]
        }
      ]
    },
    {
      "cell_type": "code",
      "metadata": {
        "colab": {
          "base_uri": "https://localhost:8080/"
        },
        "id": "v6MPG1SM_uhc",
        "outputId": "7d26f3f6-d66c-49dd-8001-7f863bcc8928"
      },
      "source": [
        "print(type([1,2,3]))\n",
        "print(type(arr))"
      ],
      "execution_count": null,
      "outputs": [
        {
          "output_type": "stream",
          "name": "stdout",
          "text": [
            "<class 'list'>\n",
            "<class 'numpy.ndarray'>\n"
          ]
        }
      ]
    },
    {
      "cell_type": "code",
      "metadata": {
        "colab": {
          "base_uri": "https://localhost:8080/"
        },
        "id": "qGZUkL_d_21G",
        "outputId": "f00a5cfa-a46c-49e3-c4ba-a014a5f8cdd8"
      },
      "source": [
        "tpl = (4,5,6)\n",
        "arr = np.array(tpl)\n",
        "print(arr)\n",
        "\n",
        "lst = [1,2,3]\n",
        "arr = np.array(lst)\n",
        "print(arr)\n",
        "\n",
        "lst = [[1,2,],[3,4]]\n",
        "arr = np.array(lst)\n",
        "print(arr)\n"
      ],
      "execution_count": null,
      "outputs": [
        {
          "output_type": "stream",
          "name": "stdout",
          "text": [
            "[4 5 6]\n",
            "[1 2 3]\n",
            "[[1 2]\n",
            " [3 4]]\n"
          ]
        }
      ]
    },
    {
      "cell_type": "markdown",
      "metadata": {
        "id": "Vo0mBdEoBJ9O"
      },
      "source": [
        "## shape, ndim, size "
      ]
    },
    {
      "cell_type": "code",
      "metadata": {
        "colab": {
          "base_uri": "https://localhost:8080/"
        },
        "id": "QrzrHYHsAIuB",
        "outputId": "ee3f2694-4701-4fbb-c854-40b244d472a2"
      },
      "source": [
        "# shape row column\n",
        "\n",
        "arr1 = np.array([1,2,3])\n",
        "arr2 = np.array([[1,2,3],[4,5,6]])\n",
        "\n",
        "print(arr1.shape)\n",
        "print(arr2.shape)\n",
        "\n",
        "#ndim - dimension\n",
        "print(arr1.ndim,arr2.ndim)\n",
        "\n",
        "#size - total element count\n",
        "print(arr1.size,arr2.size)\n",
        "\n"
      ],
      "execution_count": null,
      "outputs": [
        {
          "output_type": "stream",
          "name": "stdout",
          "text": [
            "(3,)\n",
            "(2, 3)\n",
            "1 2\n",
            "3 6\n"
          ]
        }
      ]
    },
    {
      "cell_type": "markdown",
      "metadata": {
        "id": "F54jtP8VBNlT"
      },
      "source": [
        "## datatype\n",
        "\n"
      ]
    },
    {
      "cell_type": "code",
      "metadata": {
        "id": "Ji4eOYxuBT85"
      },
      "source": [
        "arr = np.array([1,2,3])\n",
        "print(arr)"
      ],
      "execution_count": null,
      "outputs": []
    },
    {
      "cell_type": "code",
      "metadata": {
        "colab": {
          "base_uri": "https://localhost:8080/"
        },
        "id": "3U82zpUtBcA2",
        "outputId": "1d065ed3-d63c-4c6b-eee6-6a771adbeae3"
      },
      "source": [
        "arr = np.array([1,2,3],dtype=np.float)\n",
        "print(arr, arr.dtype)"
      ],
      "execution_count": null,
      "outputs": [
        {
          "output_type": "stream",
          "name": "stdout",
          "text": [
            "[1. 2. 3.] float64\n"
          ]
        }
      ]
    },
    {
      "cell_type": "code",
      "metadata": {
        "colab": {
          "base_uri": "https://localhost:8080/"
        },
        "id": "Xsa10VA1BuqR",
        "outputId": "2bd1bebb-d138-4af7-efb7-26fd4961c5c6"
      },
      "source": [
        "arr = np.array([1.2,2.3,3.4],dtype=np.int)\n",
        "print(arr, arr.dtype)"
      ],
      "execution_count": null,
      "outputs": [
        {
          "output_type": "stream",
          "name": "stdout",
          "text": [
            "[1 2 3] int64\n"
          ]
        }
      ]
    },
    {
      "cell_type": "code",
      "metadata": {
        "colab": {
          "base_uri": "https://localhost:8080/"
        },
        "id": "7uWYD9-zBzFg",
        "outputId": "1a108a70-3a25-4983-a911-b7ef28e202fe"
      },
      "source": [
        "arr = np.array([0,1,1],dtype=np.bool)\n",
        "print(arr, arr.dtype)"
      ],
      "execution_count": null,
      "outputs": [
        {
          "output_type": "stream",
          "name": "stdout",
          "text": [
            "[False  True  True] bool\n"
          ]
        }
      ]
    },
    {
      "cell_type": "code",
      "metadata": {
        "colab": {
          "base_uri": "https://localhost:8080/"
        },
        "id": "6q7eeKhAB7Fx",
        "outputId": "954958ca-0bda-4a68-bb39-7773f6ce3b69"
      },
      "source": [
        "arr = np.array([0,1,2,3])\n",
        "print(arr, arr.dtype)\n",
        "\n",
        "\n",
        "arr= arr.astype(np.float32)\n",
        "print(arr,arr.dtype)"
      ],
      "execution_count": null,
      "outputs": [
        {
          "output_type": "stream",
          "name": "stdout",
          "text": [
            "[0 1 2 3] int64\n",
            "[0. 1. 2. 3.] float32\n"
          ]
        }
      ]
    },
    {
      "cell_type": "code",
      "metadata": {
        "colab": {
          "base_uri": "https://localhost:8080/",
          "height": 232
        },
        "id": "LmiF0QKbCRi3",
        "outputId": "8dde5557-9412-4664-9663-b15f7304b00c"
      },
      "source": [
        "# numpy type- only single type is possible\n",
        "\n",
        "lst = [1,2.33,\"23\"]\n",
        "arr = np.array([1,2,3.4,\"21\",\"text\"],dtype=int)\n",
        "\n",
        "print(lst,type(lst))\n",
        "print(arr,arr.dtype)"
      ],
      "execution_count": null,
      "outputs": [
        {
          "output_type": "error",
          "ename": "ValueError",
          "evalue": "ignored",
          "traceback": [
            "\u001b[0;31m---------------------------------------------------------------------------\u001b[0m",
            "\u001b[0;31mValueError\u001b[0m                                Traceback (most recent call last)",
            "\u001b[0;32m<ipython-input-29-327763eb10d0>\u001b[0m in \u001b[0;36m<module>\u001b[0;34m()\u001b[0m\n\u001b[1;32m      2\u001b[0m \u001b[0;34m\u001b[0m\u001b[0m\n\u001b[1;32m      3\u001b[0m \u001b[0mlst\u001b[0m \u001b[0;34m=\u001b[0m \u001b[0;34m[\u001b[0m\u001b[0;36m1\u001b[0m\u001b[0;34m,\u001b[0m\u001b[0;36m2.33\u001b[0m\u001b[0;34m,\u001b[0m\u001b[0;34m\"23\"\u001b[0m\u001b[0;34m]\u001b[0m\u001b[0;34m\u001b[0m\u001b[0;34m\u001b[0m\u001b[0m\n\u001b[0;32m----> 4\u001b[0;31m \u001b[0marr\u001b[0m \u001b[0;34m=\u001b[0m \u001b[0mnp\u001b[0m\u001b[0;34m.\u001b[0m\u001b[0marray\u001b[0m\u001b[0;34m(\u001b[0m\u001b[0;34m[\u001b[0m\u001b[0;36m1\u001b[0m\u001b[0;34m,\u001b[0m\u001b[0;36m2\u001b[0m\u001b[0;34m,\u001b[0m\u001b[0;36m3.4\u001b[0m\u001b[0;34m,\u001b[0m\u001b[0;34m\"21\"\u001b[0m\u001b[0;34m,\u001b[0m\u001b[0;34m\"text\"\u001b[0m\u001b[0;34m]\u001b[0m\u001b[0;34m,\u001b[0m\u001b[0mdtype\u001b[0m\u001b[0;34m=\u001b[0m\u001b[0mint\u001b[0m\u001b[0;34m)\u001b[0m\u001b[0;34m\u001b[0m\u001b[0;34m\u001b[0m\u001b[0m\n\u001b[0m\u001b[1;32m      5\u001b[0m \u001b[0;34m\u001b[0m\u001b[0m\n\u001b[1;32m      6\u001b[0m \u001b[0mprint\u001b[0m\u001b[0;34m(\u001b[0m\u001b[0mlst\u001b[0m\u001b[0;34m,\u001b[0m\u001b[0mtype\u001b[0m\u001b[0;34m(\u001b[0m\u001b[0mlst\u001b[0m\u001b[0;34m)\u001b[0m\u001b[0;34m)\u001b[0m\u001b[0;34m\u001b[0m\u001b[0;34m\u001b[0m\u001b[0m\n",
            "\u001b[0;31mValueError\u001b[0m: invalid literal for int() with base 10: 'text'"
          ]
        }
      ]
    },
    {
      "cell_type": "markdown",
      "metadata": {
        "id": "fpmjG4eHDC1L"
      },
      "source": [
        "## 정해진 형식의 N차원 배열 생성"
      ]
    },
    {
      "cell_type": "code",
      "metadata": {
        "colab": {
          "base_uri": "https://localhost:8080/"
        },
        "id": "GOzCcI21C9le",
        "outputId": "f9561446-4089-4db9-bf1d-bdffd3cff22f"
      },
      "source": [
        "# np.zeros()\n",
        "\n",
        "arr = np.zeros([2,2])\n",
        "print(arr)\n",
        "\n",
        "# np.ones()\n",
        "\n",
        "arr = np.ones([3,5])\n",
        "print(arr)\n",
        "\n",
        "\n",
        "# np.full()\n",
        "\n",
        "arr = np.full((2,3),5)\n",
        "print(arr)\n",
        "\n",
        "# np.eye()\n",
        "\n",
        "arr1 = np.eye(3,4,k=0)\n",
        "arr2 = np.eye(3,k=0) # 정방행렬\n",
        "print(arr1)\n",
        "print(arr2)\n"
      ],
      "execution_count": null,
      "outputs": [
        {
          "output_type": "stream",
          "name": "stdout",
          "text": [
            "[[0. 0.]\n",
            " [0. 0.]]\n",
            "[[1. 1. 1. 1. 1.]\n",
            " [1. 1. 1. 1. 1.]\n",
            " [1. 1. 1. 1. 1.]]\n",
            "[[5 5 5]\n",
            " [5 5 5]]\n",
            "[[1. 0. 0. 0.]\n",
            " [0. 1. 0. 0.]\n",
            " [0. 0. 1. 0.]]\n",
            "[[1. 0. 0.]\n",
            " [0. 1. 0.]\n",
            " [0. 0. 1.]]\n"
          ]
        }
      ]
    },
    {
      "cell_type": "code",
      "metadata": {
        "colab": {
          "base_uri": "https://localhost:8080/"
        },
        "id": "8jdGhIG5DN4z",
        "outputId": "6d62f4d0-de2f-4e4b-f613-8bb900a5cb3a"
      },
      "source": [
        "arr = np.array([[1,2,3],[4,5,6]])\n",
        "\n",
        "#np.zeros_like()\n",
        "arr_z = np.zeros_like(arr)\n",
        "print(arr_z)\n",
        "\n",
        "\n",
        "#np.ones_like()\n",
        "arr_z = np.ones_like(arr)\n",
        "print(arr_z)\n",
        "\n",
        "#np.full_like()\n",
        "arr_z = np.full_like(arr,9)\n",
        "print(arr_z)\n",
        "\n"
      ],
      "execution_count": null,
      "outputs": [
        {
          "output_type": "stream",
          "name": "stdout",
          "text": [
            "[[0 0 0]\n",
            " [0 0 0]]\n",
            "[[1 1 1]\n",
            " [1 1 1]]\n",
            "[[9 9 9]\n",
            " [9 9 9]]\n"
          ]
        }
      ]
    },
    {
      "cell_type": "markdown",
      "metadata": {
        "id": "kwevj-pIFLUE"
      },
      "source": [
        "## 특정 범위 값 가지는 N차원 배열 생성"
      ]
    },
    {
      "cell_type": "code",
      "metadata": {
        "colab": {
          "base_uri": "https://localhost:8080/"
        },
        "id": "VDSeAHdUEj_r",
        "outputId": "de865874-5a6e-48d6-8894-b0d00231f054"
      },
      "source": [
        "\n",
        "\n",
        "arr = np.arange(9)\n",
        "print(arr)\n",
        "\n",
        "arr = np.arange(3,12)\n",
        "print(arr)\n",
        "\n",
        "arr = np.arange(3,12,3)\n",
        "print(arr)\n",
        "\n",
        "\n",
        "arr = np.arange(start) = 3, stop=12,step = 3)  # stop 미만\n",
        "print(arr)  \n",
        "\n"
      ],
      "execution_count": null,
      "outputs": [
        {
          "output_type": "stream",
          "name": "stdout",
          "text": [
            "[0 1 2 3 4 5 6 7 8]\n",
            "[ 3  4  5  6  7  8  9 10 11]\n",
            "[3 6 9]\n"
          ]
        }
      ]
    },
    {
      "cell_type": "code",
      "metadata": {
        "colab": {
          "base_uri": "https://localhost:8080/"
        },
        "id": "5n4XVDCJFPHv",
        "outputId": "a375f059-18b5-4b44-d56b-82f2a25de4bc"
      },
      "source": [
        "# np.linspace(). \n",
        "\n",
        "arr = np.linspace(0,100,11). # 값까지 \n",
        "print(arr)"
      ],
      "execution_count": null,
      "outputs": [
        {
          "output_type": "stream",
          "name": "stdout",
          "text": [
            "[  0.  10.  20.  30.  40.  50.  60.  70.  80.  90. 100.]\n"
          ]
        }
      ]
    },
    {
      "cell_type": "code",
      "metadata": {
        "colab": {
          "base_uri": "https://localhost:8080/"
        },
        "id": "8JJ-IuzEFcWB",
        "outputId": "25ddfbf0-1f65-4fe9-cc7e-da655f2ffaac"
      },
      "source": [
        "# np.logspace()\n",
        "\n",
        "arr = np.linspace(1,10,10)\n",
        "print(arr, end='\\n\\n')\n",
        "\n",
        "arr = np.logspace(1,10,10, base = 2)\n",
        "print(arr)\n",
        "\n",
        "arr = np.logspace(1,10,10)\n",
        "print(arr)"
      ],
      "execution_count": null,
      "outputs": [
        {
          "output_type": "stream",
          "name": "stdout",
          "text": [
            "[ 1.  2.  3.  4.  5.  6.  7.  8.  9. 10.]\n",
            "\n",
            "[   2.    4.    8.   16.   32.   64.  128.  256.  512. 1024.]\n",
            "[1.e+01 1.e+02 1.e+03 1.e+04 1.e+05 1.e+06 1.e+07 1.e+08 1.e+09 1.e+10]\n"
          ]
        }
      ]
    },
    {
      "cell_type": "markdown",
      "metadata": {
        "id": "auDZ3Q_pF56y"
      },
      "source": [
        "## 난수로 n차원 배열 생성\n"
      ]
    },
    {
      "cell_type": "code",
      "metadata": {
        "id": "xYD32n0ZF8eH"
      },
      "source": [
        "import matplotlib.pyplot as plt"
      ],
      "execution_count": null,
      "outputs": []
    },
    {
      "cell_type": "code",
      "metadata": {
        "colab": {
          "base_uri": "https://localhost:8080/"
        },
        "id": "mDTIRClkGJiE",
        "outputId": "87315023-6fd0-4a4a-dccc-f1d7cc7f5996"
      },
      "source": [
        "# np.random.normal()\n",
        "\n",
        "##arr = np.random.normal(loc,scale,size) # 정규분포 형태\n",
        "arr = np.random.normal(0,1,10)\n",
        "print(arr)\n",
        "\n",
        "arr = np.random.normal(0,1,(2,3)) # size \n",
        "print(arr)"
      ],
      "execution_count": null,
      "outputs": [
        {
          "output_type": "stream",
          "name": "stdout",
          "text": [
            "[-0.67283521 -0.81267814  0.73974573  1.30042138 -0.69194391 -1.40920854\n",
            "  0.92153978  0.78879943  1.48276685 -0.34382063]\n",
            "[[-0.96830913  0.16359473 -0.91150962]\n",
            " [-1.19539506 -0.27818839 -1.56517533]]\n"
          ]
        }
      ]
    },
    {
      "cell_type": "code",
      "metadata": {
        "colab": {
          "base_uri": "https://localhost:8080/",
          "height": 513
        },
        "id": "iuuBTiZ_Glaq",
        "outputId": "db0292a3-2b78-404b-8880-c29ca6a69169"
      },
      "source": [
        "arr = np.random.normal(0,1,1000) # 1000개의 원소가\n",
        "plt.hist(arr,bins=100) # 100개의 구간의 히스토그램으로 \n",
        "plt.show() # 나타남\n",
        "\n",
        "arr = np.random.normal(0,1,100000) # 100000개의 원소가\n",
        "plt.hist(arr,bins=100) # 100개의 구간의 히스토그램으로 \n",
        "plt.show() # 나타남 --> 좀 더 정규분포의 가까워짐 \n",
        "\n"
      ],
      "execution_count": null,
      "outputs": [
        {
          "output_type": "display_data",
          "data": {
            "image/png": "[encoded data removed]",
            "text/plain": [
              "<Figure size 432x288 with 1 Axes>"
            ]
          },
          "metadata": {
            "needs_background": "light"
          }
        },
        {
          "output_type": "display_data",
          "data": {
            "image/png": "[encoded data removed]",
            "text/plain": [
              "<Figure size 432x288 with 1 Axes>"
            ]
          },
          "metadata": {
            "needs_background": "light"
          }
        }
      ]
    },
    {
      "cell_type": "code",
      "metadata": {
        "colab": {
          "base_uri": "https://localhost:8080/",
          "height": 265
        },
        "id": "28ljyGXyHAAZ",
        "outputId": "02bc4fe6-5700-4403-91ce-35b12c3a5136"
      },
      "source": [
        "# np.random.rand(). \n",
        "## 0에서 1사이의 값의 표본을 균등한 비율로 추출\n",
        "arr = np.random.rand(1000) # 표본 갯수\n",
        "plt.hist(arr,bins =100) # 구간 100개 \n",
        "plt.show()"
      ],
      "execution_count": null,
      "outputs": [
        {
          "output_type": "display_data",
          "data": {
            "image/png": "[encoded data removed]",
            "text/plain": [
              "<Figure size 432x288 with 1 Axes>"
            ]
          },
          "metadata": {
            "needs_background": "light"
          }
        }
      ]
    },
    {
      "cell_type": "code",
      "metadata": {
        "colab": {
          "base_uri": "https://localhost:8080/",
          "height": 265
        },
        "id": "682oAcOHG469",
        "outputId": "85d34ea5-e5df-4375-a403-8ca7ae6e1f9e"
      },
      "source": [
        "# np.random.randn()\n",
        "## -1~ 1사이의 값을 정규분포 형태로 추출\n",
        "\n",
        "arr = np.random.randn(1000)\n",
        "plt.hist(arr,bins=100)\n",
        "plt.show()"
      ],
      "execution_count": null,
      "outputs": [
        {
          "output_type": "display_data",
          "data": {
            "image/png": "[encoded data removed]",
            "text/plain": [
              "<Figure size 432x288 with 1 Axes>"
            ]
          },
          "metadata": {
            "needs_background": "light"
          }
        }
      ]
    },
    {
      "cell_type": "code",
      "metadata": {
        "colab": {
          "base_uri": "https://localhost:8080/"
        },
        "id": "tivRwT4THyzC",
        "outputId": "4ac8c9fb-1a13-488a-ef86-66094effb84f"
      },
      "source": [
        "# np.random.randint()\n",
        "## random한 정수 추출\n",
        "\n",
        "arr = np.random.randint(low=1,high=5,size=10) # 1~5 배열 랜덤하게 10개 만들어줌 \n",
        "print(arr)\n",
        "\n",
        "arr = np.random.randint(low=1,high=5,size=(3,4)) # 1~5 배열 랜덤하게 (3,4)형태로 만들어줌 \n",
        "print(arr)\n",
        "\n",
        "\n",
        "\n",
        "arr = np.random.randint(5) # 하나만 입력시에는 자동으로 high로 잡히고 low=0 size=1로 default\n",
        "print(arr)"
      ],
      "execution_count": null,
      "outputs": [
        {
          "output_type": "stream",
          "name": "stdout",
          "text": [
            "[3 1 4 2 4 3 1 4 1 3]\n",
            "[[3 1 3 2]\n",
            " [3 1 3 4]\n",
            " [2 3 1 1]]\n"
          ]
        }
      ]
    },
    {
      "cell_type": "code",
      "metadata": {
        "colab": {
          "base_uri": "https://localhost:8080/",
          "height": 265
        },
        "id": "tfrzwdeAIgvS",
        "outputId": "d30647ff-0346-4e95-91c3-7eb898762118"
      },
      "source": [
        "arr = np.random.randint(100,200,1000) # 100~200(미만) 배열 랜덤하게 1000개의 numpy 만들어줌 \n",
        "plt.hist(arr,bins=100)\n",
        "plt.show()\n"
      ],
      "execution_count": null,
      "outputs": [
        {
          "output_type": "display_data",
          "data": {
            "image/png": "[encoded data removed]",
            "text/plain": [
              "<Figure size 432x288 with 1 Axes>"
            ]
          },
          "metadata": {
            "needs_background": "light"
          }
        }
      ]
    },
    {
      "cell_type": "markdown",
      "metadata": {
        "id": "DJtuTvfwJG5I"
      },
      "source": [
        "## 시드값을 통한 난수 생성 제어"
      ]
    },
    {
      "cell_type": "code",
      "metadata": {
        "colab": {
          "base_uri": "https://localhost:8080/"
        },
        "id": "ZclP4zqtJECD",
        "outputId": "73c8fc8a-8d8e-4397-f805-0ab374ae1f5d"
      },
      "source": [
        "## 난수- 시드값 기준으로 생성\n",
        "\n",
        "arr = np.random.rand(10)\n",
        "print('난수 발생1 \\n',arr)\n",
        "\n",
        "arr = np.random.rand(10)\n",
        "print('난수 발생2 \\n',arr)\n",
        "\n",
        "## 두 개의 난수가 다름 -> 난수 고정이 필요한 경우\n",
        "\n",
        "print(\"--------------------\")\n",
        "\n",
        "np.random.seed(1)\n",
        "arr = np.random.rand(10)\n",
        "print('난수 발생1 \\n',arr)\n",
        "\n",
        "np.random.seed(1)\n",
        "arr = np.random.rand(10)\n",
        "print('난수 발생2 \\n',arr)"
      ],
      "execution_count": null,
      "outputs": [
        {
          "output_type": "stream",
          "name": "stdout",
          "text": [
            "난수 발생1 \n",
            " [0.61843735 0.79686601 0.12417914 0.59578172 0.65436402 0.36011832\n",
            " 0.56882738 0.52101533 0.85461155 0.16503339]\n",
            "난수 발생2 \n",
            " [0.66647097 0.44251098 0.82077106 0.08404319 0.39088565 0.30294311\n",
            " 0.29311839 0.54619144 0.23960218 0.32837167]\n",
            "--------------------\n",
            "난수 발생1 \n",
            " [4.17022005e-01 7.20324493e-01 1.14374817e-04 3.02332573e-01\n",
            " 1.46755891e-01 9.23385948e-02 1.86260211e-01 3.45560727e-01\n",
            " 3.96767474e-01 5.38816734e-01]\n",
            "난수 발생2 \n",
            " [4.17022005e-01 7.20324493e-01 1.14374817e-04 3.02332573e-01\n",
            " 1.46755891e-01 9.23385948e-02 1.86260211e-01 3.45560727e-01\n",
            " 3.96767474e-01 5.38816734e-01]\n"
          ]
        }
      ]
    },
    {
      "cell_type": "markdown",
      "metadata": {
        "id": "T4Uxq4gWJ1tE"
      },
      "source": [
        ""
      ]
    }
  ]
}