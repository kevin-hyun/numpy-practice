{
  "nbformat": 4,
  "nbformat_minor": 0,
  "metadata": {
    "colab": {
      "name": "4.n차원 배열 정렬.ipynb",
      "provenance": [],
      "collapsed_sections": [],
      "authorship_tag": "ABX9TyOoiYNMCM6Ax280cdhMzmTQ",
      "include_colab_link": true
    },
    "kernelspec": {
      "name": "python3",
      "display_name": "Python 3"
    },
    "language_info": {
      "name": "python"
    }
  },
  "cells": [
    {
      "cell_type": "markdown",
      "metadata": {
        "id": "view-in-github",
        "colab_type": "text"
      },
      "source": [
        "<a href=\"https://colab.research.google.com/github/kevin-hyun/numpy-practice/blob/main/4_n%EC%B0%A8%EC%9B%90_%EB%B0%B0%EC%97%B4_%EC%A0%95%EB%A0%AC.ipynb\" target=\"_parent\"><img src=\"https://colab.research.google.com/assets/colab-badge.svg\" alt=\"Open In Colab\"/></a>"
      ]
    },
    {
      "cell_type": "markdown",
      "metadata": {
        "id": "_OZtTxmAU7xr"
      },
      "source": [
        "# n차원 배열 정렬"
      ]
    },
    {
      "cell_type": "markdown",
      "metadata": {
        "id": "6uEOn5l7U_p3"
      },
      "source": [
        "# 1차원 배열 정렬"
      ]
    },
    {
      "cell_type": "code",
      "metadata": {
        "id": "Go7j9YkgVL7l"
      },
      "source": [
        "import numpy as np"
      ],
      "execution_count": null,
      "outputs": []
    },
    {
      "cell_type": "code",
      "metadata": {
        "colab": {
          "base_uri": "https://localhost:8080/"
        },
        "id": "joe21-3iU4YJ",
        "outputId": "8b3c2b0a-9e92-4362-d8bb-0c5850511bf2"
      },
      "source": [
        "arr = np.random.randint(10,size=10)\n",
        "print(arr)"
      ],
      "execution_count": null,
      "outputs": [
        {
          "output_type": "stream",
          "name": "stdout",
          "text": [
            "[9 3 0 2 5 8 4 8 6 6]\n"
          ]
        }
      ]
    },
    {
      "cell_type": "code",
      "metadata": {
        "colab": {
          "base_uri": "https://localhost:8080/"
        },
        "id": "fH4xD9qsVQ_Z",
        "outputId": "5117cf90-8324-4fd7-9619-cdb43b8aabae"
      },
      "source": [
        "## upscale\n",
        "print(np.sort(arr))"
      ],
      "execution_count": null,
      "outputs": [
        {
          "output_type": "stream",
          "name": "stdout",
          "text": [
            "[0 2 3 4 5 6 6 8 8 9]\n"
          ]
        }
      ]
    },
    {
      "cell_type": "code",
      "metadata": {
        "colab": {
          "base_uri": "https://localhost:8080/"
        },
        "id": "peOYaTdTVYOd",
        "outputId": "f75badb1-e95f-46e9-e56b-5412f0ac7fa9"
      },
      "source": [
        "## downscale\n",
        "print(np.sort(arr)[::-1]) ##shallow copy"
      ],
      "execution_count": null,
      "outputs": [
        {
          "output_type": "stream",
          "name": "stdout",
          "text": [
            "[9 8 8 6 6 5 4 3 2 0]\n"
          ]
        }
      ]
    },
    {
      "cell_type": "code",
      "metadata": {
        "colab": {
          "base_uri": "https://localhost:8080/"
        },
        "id": "pXcTKHN8ViFs",
        "outputId": "d6713c68-0e6c-4855-98b5-4b9efb890b3c"
      },
      "source": [
        "## 정렬 자료 유지- deep copy\n",
        "\n",
        "arr.sort()\n",
        "\n",
        "print(arr)"
      ],
      "execution_count": null,
      "outputs": [
        {
          "output_type": "stream",
          "name": "stdout",
          "text": [
            "[0 2 3 4 5 6 6 8 8 9]\n"
          ]
        }
      ]
    },
    {
      "cell_type": "markdown",
      "metadata": {
        "id": "9SXVRIoNVw1X"
      },
      "source": [
        "# 2차원 배열 정렬"
      ]
    },
    {
      "cell_type": "code",
      "metadata": {
        "colab": {
          "base_uri": "https://localhost:8080/"
        },
        "id": "SrC0EQk-VzyV",
        "outputId": "bdcf95ac-08ae-4a0d-8012-bd80d483260a"
      },
      "source": [
        "arr = np.random.randint(15,size=(3,4))\n",
        "print(arr)"
      ],
      "execution_count": null,
      "outputs": [
        {
          "output_type": "stream",
          "name": "stdout",
          "text": [
            "[[13  1  6 12]\n",
            " [13  5  6  2]\n",
            " [14 10  0  4]]\n"
          ]
        }
      ]
    },
    {
      "cell_type": "code",
      "metadata": {
        "colab": {
          "base_uri": "https://localhost:8080/"
        },
        "id": "IJSoh0X8V8M6",
        "outputId": "4f131f69-af7b-4396-9db3-f2e50220638b"
      },
      "source": [
        "## default  : axis = 1\n",
        "print(np.sort(arr)) \n",
        "\n",
        "\n",
        "print(np.sort(arr,axis=0)) \n",
        "\n",
        "# 2차원 -> 1차원\n",
        "\n",
        "print(np.sort(arr,axis=None))"
      ],
      "execution_count": null,
      "outputs": [
        {
          "output_type": "stream",
          "name": "stdout",
          "text": [
            "[[ 1  6 12 13]\n",
            " [ 2  5  6 13]\n",
            " [ 0  4 10 14]]\n",
            "[[13  1  0  2]\n",
            " [13  5  6  4]\n",
            " [14 10  6 12]]\n",
            "[ 0  1  2  4  5  6  6 10 12 13 13 14]\n"
          ]
        }
      ]
    },
    {
      "cell_type": "code",
      "metadata": {
        "colab": {
          "base_uri": "https://localhost:8080/"
        },
        "id": "Vlb2mq0MWYL8",
        "outputId": "7422cab7-7ade-4795-bc50-7c600f53fe49"
      },
      "source": [
        "#argsort()\n",
        "\n",
        "## - 정렬된 자료의 원본 배열(행)에서의 index표시 \n",
        "print(arr)\n",
        "print(np.sort(arr,axis=1))\n",
        "\n",
        "print(np.argsort(arr,axis=1))\n",
        "\n",
        "print(\"---------\")\n",
        "\n",
        "## - 정렬된 자료의 원본 배열(열)에서의 index표시 \n",
        "print(arr)\n",
        "print(np.sort(arr,axis=0))\n",
        "\n",
        "print(np.argsort(arr,axis=0))\n"
      ],
      "execution_count": null,
      "outputs": [
        {
          "output_type": "stream",
          "name": "stdout",
          "text": [
            "[[13  1  6 12]\n",
            " [13  5  6  2]\n",
            " [14 10  0  4]]\n",
            "[[ 1  6 12 13]\n",
            " [ 2  5  6 13]\n",
            " [ 0  4 10 14]]\n",
            "[[1 2 3 0]\n",
            " [3 1 2 0]\n",
            " [2 3 1 0]]\n",
            "---------\n",
            "[[13  1  6 12]\n",
            " [13  5  6  2]\n",
            " [14 10  0  4]]\n",
            "[[13  1  0  2]\n",
            " [13  5  6  4]\n",
            " [14 10  6 12]]\n",
            "[[0 0 2 1]\n",
            " [1 1 0 2]\n",
            " [2 2 1 0]]\n"
          ]
        }
      ]
    }
  ]
}