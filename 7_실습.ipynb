{
  "nbformat": 4,
  "nbformat_minor": 0,
  "metadata": {
    "colab": {
      "name": "7.실습",
      "provenance": [],
      "authorship_tag": "ABX9TyNiX/HQqXvv6SPRFDU4sUP+",
      "include_colab_link": true
    },
    "kernelspec": {
      "name": "python3",
      "display_name": "Python 3"
    },
    "language_info": {
      "name": "python"
    }
  },
  "cells": [
    {
      "cell_type": "markdown",
      "metadata": {
        "id": "view-in-github",
        "colab_type": "text"
      },
      "source": [
        "<a href=\"https://colab.research.google.com/github/kevin-hyun/numpy-practice/blob/main/7_%EC%8B%A4%EC%8A%B5.ipynb\" target=\"_parent\"><img src=\"https://colab.research.google.com/assets/colab-badge.svg\" alt=\"Open In Colab\"/></a>"
      ]
    },
    {
      "cell_type": "markdown",
      "metadata": {
        "id": "llg79XR5l3CR"
      },
      "source": [
        ""
      ]
    },
    {
      "cell_type": "code",
      "metadata": {
        "id": "x-OP_MU2lbbI"
      },
      "source": [
        "import numpy as np"
      ],
      "execution_count": 1,
      "outputs": []
    },
    {
      "cell_type": "markdown",
      "metadata": {
        "id": "7V93ZfsPmEhG"
      },
      "source": [
        "# 예제1 \n",
        "원소가 모두 3인 (3,4,5)형태의 numpy.array를 출력하시오 \n"
      ]
    },
    {
      "cell_type": "code",
      "metadata": {
        "colab": {
          "base_uri": "https://localhost:8080/"
        },
        "id": "yn9guA6SmOqD",
        "outputId": "bf1e875f-04a7-46f3-8bc2-005486dd2901"
      },
      "source": [
        "arr = np.full((3,4,5),3)\n",
        "print(arr)"
      ],
      "execution_count": null,
      "outputs": [
        {
          "output_type": "stream",
          "name": "stdout",
          "text": [
            "[[[3 3 3 3 3]\n",
            "  [3 3 3 3 3]\n",
            "  [3 3 3 3 3]\n",
            "  [3 3 3 3 3]]\n",
            "\n",
            " [[3 3 3 3 3]\n",
            "  [3 3 3 3 3]\n",
            "  [3 3 3 3 3]\n",
            "  [3 3 3 3 3]]\n",
            "\n",
            " [[3 3 3 3 3]\n",
            "  [3 3 3 3 3]\n",
            "  [3 3 3 3 3]\n",
            "  [3 3 3 3 3]]]\n"
          ]
        }
      ]
    },
    {
      "cell_type": "markdown",
      "metadata": {
        "id": "TJi9x0csmXCA"
      },
      "source": [
        "# 예제2\n",
        "\n",
        "정수 -50~ 50의 범위 안의 난수로 이루어진 (4,5) 형태의 numpy.array를 출력하고 행을 기준으로 오름차순 정렬한 결과와 전체 배열을 1차원 배열로 변경하여 오름차순 정렬한 결과를 출력하시오 \n"
      ]
    },
    {
      "cell_type": "code",
      "metadata": {
        "colab": {
          "base_uri": "https://localhost:8080/"
        },
        "id": "_-6nLPI_mWbE",
        "outputId": "f50278fe-6b3d-4e22-84bd-10aaa5bb01e3"
      },
      "source": [
        "arr = np.random.randint(-50,50,(4,5))\n",
        "print(arr)\n",
        "arr= np.sort(arr,axis=0)\n",
        "print(arr)\n",
        "arr= np.sort(arr,axis=None)\n",
        "print(arr)\n",
        "\n",
        "\n",
        "\n"
      ],
      "execution_count": null,
      "outputs": [
        {
          "output_type": "stream",
          "name": "stdout",
          "text": [
            "[[  0 -11 -30 -23  15]\n",
            " [-32 -18  -5 -22  18]\n",
            " [-32 -50   5 -28 -42]\n",
            " [-29  17  -7 -35   1]]\n",
            "[[-32 -50 -30 -35 -42]\n",
            " [-32 -18  -7 -28   1]\n",
            " [-29 -11  -5 -23  15]\n",
            " [  0  17   5 -22  18]]\n",
            "[-50 -42 -35 -32 -32 -30 -29 -28 -23 -22 -18 -11  -7  -5   0   1   5  15\n",
            "  17  18]\n"
          ]
        }
      ]
    },
    {
      "cell_type": "markdown",
      "metadata": {
        "id": "LkX3bchVocHU"
      },
      "source": [
        "# 예제3\n",
        "다음과 같은 파이썬 list가 존재한다.\n",
        "list 안에 있는 각 numpy.array의 원소들과 평균값과 표준편차 중앙값을 순서대로 구하여 구한 순서대로 원소가 이루어진 새로운 list를 구성하고 출력하시오 \n",
        "\n",
        "평균값 3.0, 4.0, 5.0\n",
        "표준편차 1.5, 1.7 1.9\n",
        "중앙값 1.0 , 2.0 3.0 \n",
        "\n",
        "배열 : [3.0, 1.5, 1.0 , 4.0, 1.7, 2.0, 5.0, 1.9, 3.0]"
      ]
    },
    {
      "cell_type": "code",
      "metadata": {
        "colab": {
          "base_uri": "https://localhost:8080/"
        },
        "id": "u3kv4c1Mo-R9",
        "outputId": "168e8f5c-a940-40c9-c5b7-572f6688d39b"
      },
      "source": [
        "py_list = [np.full(3,8),np.array([33,-15,26]),np.linspace(17,26,3)]\n",
        "py_list = np.array(py_list)\n",
        "\n",
        "\n",
        "arr_mean = np.mean(py_list,axis=1)\n",
        "print(arr_mean)\n",
        "\n",
        "arr_std = np.std(py_list,axis=1)\n",
        "print(arr_std)\n",
        "\n",
        "\n",
        "arr_median = np.median(py_list,axis=1)\n",
        "print(arr_median)\n",
        "\n",
        "print(np.append(arr_mean,arr_std))\n",
        "\n",
        "\n",
        "## 배열 2개는 병합했는데 3개를 못함 ....\n"
      ],
      "execution_count": null,
      "outputs": [
        {
          "output_type": "stream",
          "name": "stdout",
          "text": [
            "[ 8.         14.66666667 21.5       ]\n",
            "[ 0.         21.17125934  3.67423461]\n",
            "[ 8.  26.  21.5]\n",
            "[ 8.         14.66666667 21.5         0.         21.17125934  3.67423461]\n"
          ]
        }
      ]
    },
    {
      "cell_type": "code",
      "metadata": {
        "colab": {
          "base_uri": "https://localhost:8080/"
        },
        "id": "B68OYFnTrddv",
        "outputId": "fe0bc349-352f-4222-84eb-da113cb8f523"
      },
      "source": [
        "## 답안 \n",
        "\n",
        "## 반복문 사용 \n",
        "\n",
        "result_arr = []\n",
        "for i in py_list:\n",
        "  result_arr.append(np.mean(i))\n",
        "  result_arr.append(np.std(i))\n",
        "  result_arr.append(np.median(i))\n",
        "\n",
        "print(result_arr)\n"
      ],
      "execution_count": null,
      "outputs": [
        {
          "output_type": "stream",
          "name": "stdout",
          "text": [
            "[8.0, 0.0, 8.0, 14.666666666666666, 21.171259344267224, 26.0, 21.5, 3.6742346141747673, 21.5]\n"
          ]
        }
      ]
    },
    {
      "cell_type": "markdown",
      "metadata": {
        "id": "cy1zBKC7sxFA"
      },
      "source": [
        "#예제4 \n",
        "다음과 같은 numpy.array가 존재한다. 이 배열을 행을 기준으로 3개의 배열로 분할하여 분할된 각 배열의 원소들을 제곱한 결과를 다시 원본 배열에 행을 기준으로 병합하시오 \n",
        "(단 마지막 출력결과는 원본 배열과 차원이 같아야 한다.) \n",
        "\n"
      ]
    },
    {
      "cell_type": "code",
      "metadata": {
        "colab": {
          "base_uri": "https://localhost:8080/"
        },
        "id": "qNVX2lemtAFp",
        "outputId": "1288f819-957f-4681-a4df-621da3d0ca00"
      },
      "source": [
        "arr = np.arange(2,20,2).reshape((3,3))\n",
        "print(arr)\n",
        "\n",
        "arr_vsplit = np.vsplit(arr,3)\n",
        "print(arr_vsplit)\n",
        "## 나누기까지 이해 ㅠㅠ "
      ],
      "execution_count": null,
      "outputs": [
        {
          "output_type": "stream",
          "name": "stdout",
          "text": [
            "[[ 2  4  6]\n",
            " [ 8 10 12]\n",
            " [14 16 18]]\n",
            "[array([[2, 4, 6]]), array([[ 8, 10, 12]]), array([[14, 16, 18]])]\n"
          ]
        }
      ]
    },
    {
      "cell_type": "code",
      "metadata": {
        "colab": {
          "base_uri": "https://localhost:8080/"
        },
        "id": "t3Fty_vvtt7U",
        "outputId": "99ec3b46-f842-4108-806c-296e1a089a9c"
      },
      "source": [
        "## 정답\n",
        "\n",
        "arr = np.arange(2,20,2).reshape((3,3))\n",
        "print(arr)\n",
        "\n",
        "### 분할\n",
        "s1 = np.vsplit(arr,3)\n",
        "print(s1)\n",
        "\n",
        "## 제곱\n",
        "\n",
        "s2= np.square(s1)\n",
        "print(s2)\n",
        "\n",
        "\n",
        "\n",
        "## 3차원이 되어버림 -> 차원 일치 \n",
        "\n",
        "s3= np.squeeze(s2, axis = 1) #y축 줄여야함 \n",
        "print(s3)\n",
        "## 병합\n",
        "\n",
        "result_arr = np.vstack((arr,s3))\n",
        "print(result_arr)"
      ],
      "execution_count": null,
      "outputs": [
        {
          "output_type": "stream",
          "name": "stdout",
          "text": [
            "[[ 2  4  6]\n",
            " [ 8 10 12]\n",
            " [14 16 18]]\n",
            "[array([[2, 4, 6]]), array([[ 8, 10, 12]]), array([[14, 16, 18]])]\n",
            "[[[  4  16  36]]\n",
            "\n",
            " [[ 64 100 144]]\n",
            "\n",
            " [[196 256 324]]]\n",
            "[[  4  16  36]\n",
            " [ 64 100 144]\n",
            " [196 256 324]]\n",
            "[[  2   4   6]\n",
            " [  8  10  12]\n",
            " [ 14  16  18]\n",
            " [  4  16  36]\n",
            " [ 64 100 144]\n",
            " [196 256 324]]\n"
          ]
        }
      ]
    },
    {
      "cell_type": "markdown",
      "metadata": {
        "id": "VI0i1yr6wAbi"
      },
      "source": [
        "#예제5\n",
        "\n",
        "삼각함수의 특수각(0,30,60,90)을 numpy.array로 생성한 후 특수각에 해당하는 sin,cos,tan값을 각각 구하여 파이썬 list에 담은 해당list에 들어있는 값들을 출력하시오 \n",
        "(단, 값이 무한대라면 \"INF\"문자열을 출력할 것)\n",
        "\n",
        "numpy에서 삼각함수 radian 값을 사용하기 때문에 각을 radian으로 변경해야 합니다.\n",
        "\n",
        "(degree * pi / 180)"
      ]
    },
    {
      "cell_type": "code",
      "metadata": {
        "id": "RD6vNFLKxAtq",
        "colab": {
          "base_uri": "https://localhost:8080/"
        },
        "outputId": "85b7165c-bc4d-4fac-e2c3-9c2dd0b0476e"
      },
      "source": [
        "import math\n",
        "degree = np.array([0,30,60,90])\n",
        "radian =[]\n",
        "for i in degree:\n",
        "  radian.append(i*np.pi/180)\n",
        "\n",
        "result = []\n",
        "for i in radian:\n",
        "  if math.isinf(np.sin(i)):\n",
        "    result.append(\"INF\")\n",
        "  else:\n",
        "    result.append(np.sin(i))\n",
        "  if math.isinf(np.cos(i)):\n",
        "    result.append(\"INF\")\n",
        "  else:\n",
        "    result.append(np.cos(i))\n",
        "  if math.isinf(np.tan(i)):\n",
        "    result.append(\"INF\")\n",
        "  else:\n",
        "    result.append(np.tan(i)) \n",
        "\n",
        "print(result)\n"
      ],
      "execution_count": 4,
      "outputs": [
        {
          "output_type": "stream",
          "name": "stdout",
          "text": [
            "[0.0, 1.0, 0.0, 0.49999999999999994, 0.8660254037844387, 0.5773502691896257, 0.8660254037844386, 0.5000000000000001, 1.7320508075688767, 1.0, 6.123233995736766e-17, 1.633123935319537e+16]\n"
          ]
        }
      ]
    },
    {
      "cell_type": "code",
      "metadata": {
        "colab": {
          "base_uri": "https://localhost:8080/"
        },
        "id": "dVmUqH1uS83p",
        "outputId": "c75d1410-148b-4ef5-d725-062f185c9eca"
      },
      "source": [
        "## 정답 \n",
        "### sin cos tan 각각 array -> 계산한 값을 2중 for 문 \n",
        "\n",
        "arr = np.arange(0,91,30) ## 특수각 표현\n",
        "\n",
        "lst =[]\n",
        "\n",
        "lst.append(np.sin(arr*np.pi/180))\n",
        "lst.append(np.cos(arr*np.pi/180))\n",
        "lst.append(np.tan(arr*np.pi/180))\n",
        "\n",
        "print(lst)\n",
        "print()\n",
        "\n",
        "for value_lst in lst:\n",
        "  for value in value_lst:\n",
        "    if value>99999999:\n",
        "      print(\"INF\")\n",
        "      continue\n",
        "    print(value)\n",
        "  print()"
      ],
      "execution_count": 8,
      "outputs": [
        {
          "output_type": "stream",
          "name": "stdout",
          "text": [
            "[array([0.       , 0.5      , 0.8660254, 1.       ]), array([1.00000000e+00, 8.66025404e-01, 5.00000000e-01, 6.12323400e-17]), array([0.00000000e+00, 5.77350269e-01, 1.73205081e+00, 1.63312394e+16])]\n",
            "\n",
            "0.0\n",
            "0.49999999999999994\n",
            "0.8660254037844386\n",
            "1.0\n",
            "\n",
            "1.0\n",
            "0.8660254037844387\n",
            "0.5000000000000001\n",
            "6.123233995736766e-17\n",
            "\n",
            "0.0\n",
            "0.5773502691896257\n",
            "1.7320508075688767\n",
            "INF\n",
            "\n"
          ]
        }
      ]
    },
    {
      "cell_type": "markdown",
      "metadata": {
        "id": "3txc5VrsUdz-"
      },
      "source": [
        "# 예제 6 \n",
        "numpy.array를 이용하여 다음과 같은 패턴을 출력하시오 (단 출력시 반복문을 사용하여 출력한다)\n",
        "\n",
        "\n",
        "```\n",
        "0101010\n",
        "1010101\n",
        "0101010\n",
        "1010101\n",
        "0101010\n",
        "1010101\n",
        "\n",
        "```"
      ]
    },
    {
      "cell_type": "code",
      "metadata": {
        "colab": {
          "base_uri": "https://localhost:8080/"
        },
        "id": "jMCmD3pLUu9l",
        "outputId": "bc4d1056-67be-4def-bfda-51c164b774a7"
      },
      "source": [
        "arr = np.full((6,6),0)\n",
        "\n",
        "print(arr)\n",
        "\n",
        "\n",
        "## 2차원 인덱싱 수정 못함 \n",
        "\n",
        "print(arr)\n",
        "arr2 = arr.ravel()\n",
        "print(arr2)\n",
        "\n",
        "for index,value in enumerate(arr2):\n",
        "  if index!=0 & index%6==0:\n",
        "    print(value,\"\\n\")\n",
        "  else:\n",
        "    print(value,end=\"\")\n",
        "\n",
        "# ravel 이용해서 1차원으로 \n",
        "\n",
        "arr2 = arr.ravel()\n",
        "\n",
        "\n",
        "print(arr2)\n"
      ],
      "execution_count": 11,
      "outputs": [
        {
          "output_type": "stream",
          "name": "stdout",
          "text": [
            "[[0 0 0 0 0 0]\n",
            " [0 0 0 0 0 0]\n",
            " [0 0 0 0 0 0]\n",
            " [0 0 0 0 0 0]\n",
            " [0 0 0 0 0 0]\n",
            " [0 0 0 0 0 0]]\n",
            "[0 0 0 0 0 0 0 0 0 0 0 0 0 0 0 0 0 0 0 0 0 0 0 0 0 0 0 0 0 0 0 0 0 0 0 0]\n"
          ]
        }
      ]
    },
    {
      "cell_type": "code",
      "metadata": {
        "colab": {
          "base_uri": "https://localhost:8080/"
        },
        "id": "J2_4lIE8V4kq",
        "outputId": "8c4aece1-9efa-4f41-cb32-4295301384a8"
      },
      "source": [
        "## 정답\n",
        "\n",
        "arr= np.zeros((7,7),dtype=int)\n",
        "\n",
        "\n",
        "## 2칸 간격 1 -> 인덱싱\n",
        "\n",
        "arr[::2,1::2] = 1\n",
        "arr[1::2,0::2] =1\n",
        "\n",
        "\n",
        "for row in range(7):\n",
        "  for col in range(7):\n",
        "    print(arr[row,col],end=\" \")\n",
        "  print()"
      ],
      "execution_count": 22,
      "outputs": [
        {
          "output_type": "stream",
          "name": "stdout",
          "text": [
            "0 1 0 1 0 1 0 \n",
            "1 0 1 0 1 0 1 \n",
            "0 1 0 1 0 1 0 \n",
            "1 0 1 0 1 0 1 \n",
            "0 1 0 1 0 1 0 \n",
            "1 0 1 0 1 0 1 \n",
            "0 1 0 1 0 1 0 \n"
          ]
        }
      ]
    }
  ]
}