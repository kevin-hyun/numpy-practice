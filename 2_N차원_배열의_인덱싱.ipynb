{
  "nbformat": 4,
  "nbformat_minor": 0,
  "metadata": {
    "colab": {
      "name": "2.N차원 배열의 인덱싱.ipynb",
      "provenance": [],
      "collapsed_sections": [],
      "authorship_tag": "ABX9TyPdUfkmkivUiyf0it9tflIh",
      "include_colab_link": true
    },
    "kernelspec": {
      "name": "python3",
      "display_name": "Python 3"
    },
    "language_info": {
      "name": "python"
    }
  },
  "cells": [
    {
      "cell_type": "markdown",
      "metadata": {
        "id": "view-in-github",
        "colab_type": "text"
      },
      "source": [
        "<a href=\"https://colab.research.google.com/github/kevin-hyun/numpy-practice/blob/main/2_N%EC%B0%A8%EC%9B%90_%EB%B0%B0%EC%97%B4%EC%9D%98_%EC%9D%B8%EB%8D%B1%EC%8B%B1.ipynb\" target=\"_parent\"><img src=\"https://colab.research.google.com/assets/colab-badge.svg\" alt=\"Open In Colab\"/></a>"
      ]
    },
    {
      "cell_type": "markdown",
      "metadata": {
        "id": "_MeRa2EWKEEv"
      },
      "source": [
        "# N차원 배열의 인덱싱"
      ]
    },
    {
      "cell_type": "markdown",
      "metadata": {
        "id": "uW8mWEQ0KJmH"
      },
      "source": [
        "## 1차원 배열\n"
      ]
    },
    {
      "cell_type": "code",
      "metadata": {
        "id": "ANch6lz4KTMV"
      },
      "source": [
        "import numpy as np "
      ],
      "execution_count": null,
      "outputs": []
    },
    {
      "cell_type": "code",
      "metadata": {
        "colab": {
          "base_uri": "https://localhost:8080/"
        },
        "id": "JbkpTd5KJ8Nw",
        "outputId": "50017500-3dfe-469a-d670-21eb49e21775"
      },
      "source": [
        "arr = np.arange(10)\n",
        "print(arr)\n",
        "\n",
        "print(arr[3])\n"
      ],
      "execution_count": null,
      "outputs": [
        {
          "output_type": "stream",
          "name": "stdout",
          "text": [
            "[0 1 2 3 4 5 6 7 8 9]\n",
            "3\n"
          ]
        }
      ]
    },
    {
      "cell_type": "markdown",
      "metadata": {
        "id": "SqBhN6tNK1-1"
      },
      "source": [
        "## 2차원 배열"
      ]
    },
    {
      "cell_type": "code",
      "metadata": {
        "colab": {
          "base_uri": "https://localhost:8080/"
        },
        "id": "h4uPi4PAK0Bq",
        "outputId": "4440b3c9-cb01-496a-dffc-78a1e4b557ea"
      },
      "source": [
        "arr = np.array([[1,2,3,4],[5,6,7,8],[9,10,11,12]])\n",
        "print(arr,arr.shape,arr.ndim)\n",
        "\n",
        "print(arr[0,3])"
      ],
      "execution_count": null,
      "outputs": [
        {
          "output_type": "stream",
          "name": "stdout",
          "text": [
            "[[ 1  2  3  4]\n",
            " [ 5  6  7  8]\n",
            " [ 9 10 11 12]] (3, 4) 2\n",
            "4\n"
          ]
        }
      ]
    },
    {
      "cell_type": "code",
      "metadata": {
        "colab": {
          "base_uri": "https://localhost:8080/"
        },
        "id": "9RQN-ppILTrE",
        "outputId": "352e4f77-f702-4ee8-c57d-e3213088a685"
      },
      "source": [
        "arr = np.array([0,1,2,3,4,5,6])\n",
        "print(arr[3:8])\n",
        "print(arr[:-1])"
      ],
      "execution_count": null,
      "outputs": [
        {
          "output_type": "stream",
          "name": "stdout",
          "text": [
            "[3 4 5 6]\n",
            "[0 1 2 3 4 5]\n"
          ]
        }
      ]
    },
    {
      "cell_type": "code",
      "metadata": {
        "colab": {
          "base_uri": "https://localhost:8080/"
        },
        "id": "r-VYJE4mLg96",
        "outputId": "ad242f6e-7f01-4288-eaa1-6803e32f66b6"
      },
      "source": [
        "arr = np.array([[1,2,3,4],[5,6,7,8],[9,10,11,12]])\n",
        "\n",
        "## 0번째 행 + 모든 열\n",
        "\n",
        "print(arr[0,:],\"\\n\")\n",
        "\n",
        "## 모든 열 + 2번째 값\n",
        "print(arr[:,1],\"\\n\")\n",
        "\n",
        "# 행 1행~2행 ,  모든 열 \n",
        "\n",
        "print(arr[:2,:],\"\\n\")\n",
        "\n",
        "# 행 1행~2행 , 2열~ 끝까지\n",
        "\n",
        "print(arr[:2,2:],\"\\n\")\n",
        "\n",
        "\n"
      ],
      "execution_count": null,
      "outputs": [
        {
          "output_type": "stream",
          "name": "stdout",
          "text": [
            "[1 2 3 4] \n",
            "\n",
            "[ 2  6 10] \n",
            "\n",
            "[[1 2 3 4]\n",
            " [5 6 7 8]] \n",
            "\n",
            "[[3 4]\n",
            " [7 8]] \n",
            "\n"
          ]
        }
      ]
    },
    {
      "cell_type": "markdown",
      "metadata": {
        "id": "MUDhFFnsMZ5H"
      },
      "source": [
        "## fancy indexing\n",
        "\n"
      ]
    },
    {
      "cell_type": "code",
      "metadata": {
        "colab": {
          "base_uri": "https://localhost:8080/"
        },
        "id": "uJou6KqTMcGV",
        "outputId": "6c178e9e-7cf8-4393-8e1b-59c994ace16a"
      },
      "source": [
        "# 1차원 배열\n",
        "\n",
        "arr = np.array([5,10,15,20,25,30])\n",
        "print(arr[[0,2,4]])"
      ],
      "execution_count": null,
      "outputs": [
        {
          "output_type": "stream",
          "name": "stdout",
          "text": [
            "[ 5 15 25]\n"
          ]
        }
      ]
    },
    {
      "cell_type": "code",
      "metadata": {
        "colab": {
          "base_uri": "https://localhost:8080/"
        },
        "id": "WPcPgCRGMsIH",
        "outputId": "7cfc5e03-1440-4344-ff94-f3e8b83a5fb0"
      },
      "source": [
        "#2차원 배열\n",
        "arr  = np.array([[5,10,15,20],[25,30,35,40],[45,50,55,60]])\n",
        "\n",
        "## 0행, 2행의 값에 대해서 2열~ 끝까지\n",
        "print(arr[[0,2],2:])\n",
        "\n",
        "##  2행~끝까지, 3열, 4열의 값 \n",
        "print(arr[1:,[2,3]])\n"
      ],
      "execution_count": null,
      "outputs": [
        {
          "output_type": "stream",
          "name": "stdout",
          "text": [
            "[[15 20]\n",
            " [55 60]]\n",
            "[[35 40]\n",
            " [55 60]]\n"
          ]
        }
      ]
    },
    {
      "cell_type": "markdown",
      "metadata": {
        "id": "sx6FI-jzNxCI"
      },
      "source": [
        "## boolean indexing"
      ]
    },
    {
      "cell_type": "code",
      "metadata": {
        "colab": {
          "base_uri": "https://localhost:8080/"
        },
        "id": "vSIAe3FaNzNc",
        "outputId": "11c71b6f-9827-410c-fc41-5dd7f2b38d24"
      },
      "source": [
        "arr = np.array([1,2,3,4])\n",
        "print(arr[[True,False,True,True]])\n",
        "\n",
        "\n",
        "\n",
        "arr = np.array([[1,2,3,4],[5,6,7,8]])\n",
        "print(arr[[True,False],True])\n",
        "\n",
        "\n",
        "## 조건 연산자\n",
        "arr = np.array([[1,2,3,4],[5,6,7,8]])\n",
        "\n",
        "print(arr[arr>3])\n",
        "print(arr[arr<=2])"
      ],
      "execution_count": null,
      "outputs": [
        {
          "output_type": "stream",
          "name": "stdout",
          "text": [
            "[1 3 4]\n",
            "[[1 2 3 4]]\n",
            "[4 5 6 7 8]\n",
            "[1 2]\n"
          ]
        }
      ]
    }
  ]
}